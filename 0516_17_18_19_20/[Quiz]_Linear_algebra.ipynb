{
  "cells": [
    {
      "cell_type": "markdown",
      "metadata": {
        "id": "7UDJgH77FkFV"
      },
      "source": [
        "# Linear Algebra Quiz\n",
        "\n",
        "> 해당 퀴즈에서는 강의에서 직접적으로 다루지 않은 문제들도 포함되어 있습니다. 성취도 확인용으로 진행되는 시험이니 배운 내용을 복습하고 새로운 문제들을 공부하는 데 의미를 두시면 좋을 것 같습니다. 계산이 필요할 경우 손으로 계산하셔도 되고, 각자 colab을 켜서 numpy 등의 package를 사용하셔도 됩니다."
      ]
    },
    {
      "cell_type": "markdown",
      "metadata": {
        "id": "OytW8x6ZGNWg"
      },
      "source": [
        "## 다음 명제에 대해, True/False를 판단하시오. True일 경우 간략하게 이유를 서술하고, False일 경우 간략하게 이유를 설명하거나 반례를 드시오.\n",
        "\n",
        "\\\\\n",
        "\n",
        "행렬 $A,B$에 대해\n",
        "\n",
        "\\\\\n",
        "\n",
        "1. $A$와 $B$가 invertible 하다면, $(AB)^{-1} = A^{-1}B^{-1}$이 성립한다. \\\\\n",
        "\n"
      ]
    },
    {
      "cell_type": "markdown",
      "metadata": {
        "id": "87k24axTLS-D"
      },
      "source": [
        "A: False\n",
        "\n",
        "    \n",
        "\n",
        "---\n",
        "$$(AB)^{-1} = A^{-1}B^{-1} 이 맞다고 가정하면,$$\n",
        "$$(AB)(AB)^{-1} = ABA^{-1}B^{-1}$$\n",
        "$$I = ABA^{-1}B^{-1} 은 항등식이 아니다$$\n"
      ]
    },
    {
      "cell_type": "markdown",
      "metadata": {
        "id": "sKeXz3edLNgq"
      },
      "source": [
        "2. $\\begin{bmatrix} 1 & 1 \\\\ 0 & 1 \\\\ 0 & 0 \\end{bmatrix} \\begin{bmatrix}x1\\\\x2\\end{bmatrix} = \\begin{bmatrix} 3 \\\\ 1 \\\\ 0\\end{bmatrix}$는 해가 존재한다. \\\\"
      ]
    },
    {
      "cell_type": "code",
      "execution_count": 3,
      "metadata": {},
      "outputs": [
        {
          "data": {
            "text/plain": [
              "array([2., 1.])"
            ]
          },
          "execution_count": 3,
          "metadata": {},
          "output_type": "execute_result"
        }
      ],
      "source": [
        "import numpy as np\n",
        "A = np.array([[1,1],[0,1]])\n",
        "inv_A = np.linalg.inv(A)\n",
        "inv_A@np.array([3,1]).T"
      ]
    },
    {
      "cell_type": "markdown",
      "metadata": {
        "id": "MJSRde5dLSes"
      },
      "source": [
        "A: 존재한다\n",
        "\n",
        "---\n",
        "1 1   x1   =   3\n",
        "0 1   x2       1\n",
        "0 0            0\n",
        "\n",
        "1 1   x1   -   3 = 0\n",
        "0 1   x2       1\n",
        "0 0            0\n",
        "\n",
        "dim Row A = 2\n",
        "dim Nul A = 0\n",
        "\n",
        "\n",
        "\n"
      ]
    },
    {
      "cell_type": "markdown",
      "metadata": {
        "id": "QiMjE83JLPCI"
      },
      "source": [
        "3. $\\begin{bmatrix} 1 & 1 \\\\ 0 & 1 \\\\ 0 & 0 \\end{bmatrix} \\begin{bmatrix}x1\\\\x2\\end{bmatrix} = \\begin{bmatrix} 3 \\\\ 1 \\\\ 1\\end{bmatrix}$은 해가 존재한다. \\\\\n"
      ]
    },
    {
      "cell_type": "markdown",
      "metadata": {
        "id": "PJ504uRwLSJ7"
      },
      "source": [
        "A: 존재하지 않는다\n",
        "\n",
        "---\n",
        "3,1,1 in R3\n",
        "Ax in R2\n"
      ]
    },
    {
      "cell_type": "markdown",
      "metadata": {
        "id": "hDaT_j6BKIYo"
      },
      "source": [
        "4. $\\begin{bmatrix} 3 & 2 \\\\ 5 & 1 \\\\ 0 & 0 \\end{bmatrix}$의 column space는 span($\\{ \\begin{bmatrix} 1 \\\\ 0 \\\\ 0\\end{bmatrix}, \\begin{bmatrix} 0 \\\\ 1 \\\\ 0\\end{bmatrix}\\}$)과 같다. \\\\"
      ]
    },
    {
      "cell_type": "code",
      "execution_count": 6,
      "metadata": {},
      "outputs": [
        {
          "data": {
            "text/plain": [
              "3"
            ]
          },
          "execution_count": 6,
          "metadata": {},
          "output_type": "execute_result"
        }
      ],
      "source": [
        "A = np.asarray([[3,2],[5,1],[0,0]])\n",
        "u1 = np.array([1,0,0]).T\n",
        "A[:,0] = \n",
        "\n"
      ]
    },
    {
      "cell_type": "markdown",
      "metadata": {
        "id": "KSjmyiTBLVMJ"
      },
      "source": [
        "A: True\n",
        "\n",
        "---\n",
        "A[:,0] = 3*u1 + 5*u2\n",
        "A[:,1] = 2*u1 + 1*u2\n",
        "\n",
        "Col A = n * 5*u1 + m* 6*u2\n",
        "lin comb\n",
        "\n"
      ]
    },
    {
      "cell_type": "markdown",
      "metadata": {
        "id": "6iNk1_IiLVoS"
      },
      "source": [
        "5. $R^2$는 $R^3$의 subspace이다."
      ]
    },
    {
      "cell_type": "markdown",
      "metadata": {
        "id": "SXuttmbKLXXa"
      },
      "source": [
        "A: False\n",
        "\n",
        "---\n",
        "R2는 원점만 포함해야 하는데 R3는 안그래도 되니까\n",
        "\n",
        "A는 B의 subspace이다\n",
        "== A의 basis의 lin comb로 B를 span 한다\n"
      ]
    },
    {
      "cell_type": "markdown",
      "metadata": {
        "id": "fXTB1ua6KGWT"
      },
      "source": [
        "6. A,B가 각각 invertible하면, $(A+B)^{-1} = A^{-1} + B^{-1}$ 이다."
      ]
    },
    {
      "cell_type": "markdown",
      "metadata": {
        "id": "Hr6CAJ7OLblJ"
      },
      "source": [
        "A: False\n",
        "\n",
        "---\n",
        "$$(A+B)^{-1}  = A^{-1} + B^{-1} 가정하면,$$\n",
        "$$(A+B)(A+B)^{-1} = BA^{-1} + AB^{-1}$$\n",
        "$$I = BA^{-1} + AB^{-1} 는 항등식이 아니다$$\n",
        "\n"
      ]
    },
    {
      "cell_type": "markdown",
      "metadata": {
        "id": "yHG2CI26LkeH"
      },
      "source": [
        "7. $T(x) = Ax = \\begin{bmatrix} 3 & 2 \\\\ 5 & 1 \\\\ 0 & 0 \\end{bmatrix}\\begin{bmatrix}x_1\\\\x_2\\end{bmatrix}$는 $R^2$에서 $R^3$으로 ONTO mapping하는 transformation이다."
      ]
    },
    {
      "cell_type": "markdown",
      "metadata": {
        "id": "ESCBKi1CMys3"
      },
      "source": [
        "A: False\n",
        "\n",
        "---\n",
        "ONTO: 공역과 치역이 같다\n",
        "공역: R3\n",
        "치역: R2\n"
      ]
    },
    {
      "cell_type": "markdown",
      "metadata": {
        "id": "TSUQ1dZHM0Jt"
      },
      "source": [
        "8. $T(x) = Ax = \\begin{bmatrix} 3 & 2 \\\\ 5 & 1 \\\\ 0 & 0 \\end{bmatrix}\\begin{bmatrix}x_1\\\\x_2\\end{bmatrix}$는 $R^2$에서 $R^3$으로 one-to-one mapping하는 transformation이다."
      ]
    },
    {
      "cell_type": "markdown",
      "metadata": {
        "id": "BToGQpKpM4ja"
      },
      "source": [
        "A: True\n",
        "\n",
        "---\n",
        "one-to-one: 정의역 원소 갯수가 치역 원소 갯수와 같다\n",
        "x가 다르면 Ax도 다르다\n"
      ]
    },
    {
      "cell_type": "markdown",
      "metadata": {
        "id": "wDVr916dFx0s"
      },
      "source": [
        "9. $T(x) = Ax = \\begin{bmatrix} 1 & 0 &0&5&0\\\\ 0 & 1 &0&1&0\\\\ 0 & 0&1&0&0\\\\0&0&0&0&1 \\end{bmatrix}\\begin{bmatrix}x_1\\\\x_2\\\\x_3\\\\x_4\\\\x_5\\end{bmatrix}$는 $R^5$에서 $R^4$으로 ONTO mapping하는 transformation이다."
      ]
    },
    {
      "cell_type": "markdown",
      "metadata": {
        "id": "NxWInuOKOoT0"
      },
      "source": [
        "A. True\n",
        "\n",
        "---\n",
        "ONTO: 공역과 치역이 같다\n",
        "공역: R4\n",
        "치역: R4\n"
      ]
    },
    {
      "cell_type": "markdown",
      "metadata": {
        "id": "ILg0hNiCOqyj"
      },
      "source": [
        "10. $T(x) = Ax = \\begin{bmatrix} 1 & 0 &0&5&0\\\\ 0 & 1 &0&1&0\\\\ 0 & 0&1&0&0\\\\0&0&0&0&1 \\end{bmatrix}\\begin{bmatrix}x_1\\\\x_2\\\\x_3\\\\x_4\\\\x_5\\end{bmatrix}$는 $R^5$에서 $R^4$으로 one-to-one mapping하는 transformation이다."
      ]
    },
    {
      "cell_type": "markdown",
      "metadata": {
        "id": "MkcXZLycOwa5"
      },
      "source": [
        "A. True\n",
        "\n",
        "---\n",
        "one-to-one: 정의역 원소 갯수와 치역 원소 갯수가 같다.\n",
        "x에 따라 Ax가 다르다\n"
      ]
    },
    {
      "cell_type": "markdown",
      "metadata": {
        "id": "dB-AgyBNOuRF"
      },
      "source": [
        "11. $T: R^n \\rightarrow R^n$ 인 $T$가 one-to-one linear transformation이면, $T$는 ONTO linear transformation이다."
      ]
    },
    {
      "cell_type": "markdown",
      "metadata": {
        "id": "GUh4yO_rPdbz"
      },
      "source": [
        "A. Yes\n",
        "\n",
        "---\n",
        "one-to-one이면 치역이 Rn 이고\n",
        "공역이 Rn 이니 \n",
        "두개가 같으므로 onto이다\n"
      ]
    },
    {
      "cell_type": "markdown",
      "metadata": {
        "id": "OqHGwpcNPe8A"
      },
      "source": [
        "12. $T: R^n \\rightarrow R^n$ 인 $T$가 ONTO linear transformation이면, $T$는 one-to-one linear transformation이다."
      ]
    },
    {
      "cell_type": "markdown",
      "metadata": {
        "id": "fCErzrXoPjYd"
      },
      "source": [
        "A. Yes\n",
        "\n",
        "---\n",
        "공역과 치역이 Rn\n",
        "정의역이 Rn\n",
        "정의역과 치역이 같다\n",
        "\n"
      ]
    },
    {
      "cell_type": "markdown",
      "metadata": {
        "id": "IoN8YpEmPk0d"
      },
      "source": [
        "13. $A$가 $n \\times n$ matrix이면서 rank가 $n$인 경우, $A$는 invertible 하다."
      ]
    },
    {
      "cell_type": "markdown",
      "metadata": {
        "id": "QxrBJ8MzXhlm"
      },
      "source": [
        "A. True\n",
        " \n",
        "---\n",
        "Rn이 rank n --> linealy indep\n",
        "Ax = 0 trivial solution\n",
        "A-1Ax = 0\n",
        "x = 0\n"
      ]
    },
    {
      "cell_type": "markdown",
      "metadata": {
        "id": "zeIEt1kGXlgO"
      },
      "source": [
        "14. $A = \\begin{bmatrix} 1 & 1 & 1\\\\ 2 & 2& 2 \\\\ 3 & 3& 3 \\end{bmatrix}$은 invertible하지 않다."
      ]
    },
    {
      "cell_type": "markdown",
      "metadata": {
        "id": "kXRcSYA6YmGd"
      },
      "source": [
        "A. Yes, \n",
        "\n",
        "---\n",
        "\n",
        "linealy dep"
      ]
    },
    {
      "cell_type": "markdown",
      "metadata": {
        "id": "-b61bc66Ymix"
      },
      "source": [
        "15. $A$와 $B$의 rank가 같다면, 두 matrix의 shape은 같다."
      ]
    },
    {
      "cell_type": "markdown",
      "metadata": {
        "id": "sTNrUS7oZfSe"
      },
      "source": [
        "A. False\n",
        "\n",
        "---\n",
        "rank A= dim Col A\n",
        "Row A 가 다를 수 있다.\n"
      ]
    },
    {
      "cell_type": "markdown",
      "metadata": {
        "id": "z0pZv776ZgHn"
      },
      "source": [
        "16. $AB = AC$이면, $B=C$이다."
      ]
    },
    {
      "cell_type": "markdown",
      "metadata": {
        "id": "5tM8vpIyZhs3"
      },
      "source": [
        "A. False\n",
        "\n",
        "---\n",
        "A = 0 일때 B와 C는 다를 수 있다.\n"
      ]
    },
    {
      "cell_type": "markdown",
      "metadata": {
        "id": "Y0_zeisxZt8v"
      },
      "source": [
        "17. $B = A^TA$이면, $B$는 symmetric matrix이다."
      ]
    },
    {
      "cell_type": "markdown",
      "metadata": {
        "id": "HF98eLXsZ79T"
      },
      "source": [
        "A. True\n",
        "\n",
        "---\n",
        "\n",
        "$$sym --> B^{T} = B$$\n",
        "$$(A^{T}A)^{T} = A^{T}A$$"
      ]
    },
    {
      "cell_type": "markdown",
      "metadata": {
        "id": "YB9qNFIDZvpn"
      },
      "source": [
        "18. Vector $v_1, v_2, v_3, v_4, v_5$가 $R^5$를 span한다면, 저 다섯 vector는 서로 linearly independent하다."
      ]
    },
    {
      "cell_type": "markdown",
      "metadata": {
        "id": "cnDN-ri_c7eQ"
      },
      "source": [
        "A. True\n",
        "\n",
        "---\n",
        "n=5 이고  5개의 vector가 span 하므로  basis 조건에 따라 v1~v5는 basis이다. 그러므로 다섯 벡터는 lin ind\n"
      ]
    },
    {
      "cell_type": "markdown",
      "metadata": {
        "id": "MA13PNouc8F-"
      },
      "source": [
        "19. $v_1, v_2, v_3 \\in R^3$인 세 vector가 서로 linearly dependent 하다면, 세 vector를 칼럼으로 하는 matrix $A = \\begin{bmatrix} \\mid & \\mid & \\mid \\\\ v_1 & v_2 & v_3 \\\\ \\mid & \\mid & \\mid  \\end{bmatrix}$는 invertible하지 않다."
      ]
    },
    {
      "cell_type": "markdown",
      "metadata": {
        "id": "IT_-fvEVZ54x"
      },
      "source": [
        "A. True\n",
        "\n",
        "---\n",
        "\n",
        "Ax=0 non trivial sol을 가지기 때문"
      ]
    },
    {
      "cell_type": "markdown",
      "metadata": {
        "id": "ne3rE5yWaJNb"
      },
      "source": [
        "20. $v_1, v_2 \\in R^3$인 두 vector가 span하는 subspace는 평면이다 (2 dimensional subspace)."
      ]
    },
    {
      "cell_type": "markdown",
      "metadata": {
        "id": "8Rx_9cMxaw4d"
      },
      "source": [
        "A. False\n",
        "\n",
        "---\n",
        "v1 과 v2가 lin dep 하다면 1d 다\n"
      ]
    },
    {
      "cell_type": "markdown",
      "metadata": {
        "id": "PCaKfiFOaxpe"
      },
      "source": [
        "21. Normal equation은 해가 항상 존재한다."
      ]
    },
    {
      "cell_type": "markdown",
      "metadata": {
        "id": "iLTgqoAoeDgC"
      },
      "source": [
        "A. 수선의 발이 없는 경우는 없으므로 ㅋㅋㅋ True\n",
        "\n",
        "---\n",
        "ATAx = ATb\n",
        "(ATA) is invertible?\n",
        "\n",
        "(ATA)x = 0 only have trivial ?\n",
        "\n",
        "ATA is always linearly ind ?\n",
        "\n",
        "\n",
        "\n"
      ]
    },
    {
      "cell_type": "markdown",
      "metadata": {
        "id": "2UI1Hy5qeECr"
      },
      "source": [
        "22. $m \\times n$ matrix $A$의 column vector $v_1,v_2, \\cdots, v_n$이 orthonormal 하다면,  $AA^Tx$는 $x$를 Col $A$에 orthogonal projection하는 matrix이다."
      ]
    },
    {
      "cell_type": "markdown",
      "metadata": {
        "id": "ztK4wjlFaJXc"
      },
      "source": [
        " A.T True\n",
        "\n",
        "---\n",
        "\n",
        "AAT mxm"
      ]
    },
    {
      "cell_type": "markdown",
      "metadata": {
        "id": "UASni6U232y8"
      },
      "source": [
        "23. $m \\times n$ matrix $A$의 column vector $v_1,v_2, \\cdots, v_n$이 서로 linearly independent 하다고 하자. 그렇다면 $v_1,v_2, \\cdots, v_n$에 Gram-Schmidt를 적용하면 Col $A$의 orthogonal basis가 된다."
      ]
    },
    {
      "cell_type": "markdown",
      "metadata": {
        "id": "m_aJk5EK348-"
      },
      "source": [
        "A. Yes\n",
        "\n",
        "---\n",
        "\n"
      ]
    },
    {
      "cell_type": "markdown",
      "metadata": {
        "id": "P4Nf84rW35oP"
      },
      "source": [
        "24. Subspace $V$ = span ($\\Bigg\\{ \\begin{bmatrix} 3 \\\\ 1 \\\\ 0\\end{bmatrix}\\, \\begin{bmatrix} 1 \\\\ 2 \\\\ 0\\end{bmatrix}\\Bigg\\}$)라고 하자. 이때 ($\\Bigg\\{ \\begin{bmatrix} 1 \\\\ 1 \\\\ 0\\end{bmatrix}\\, \\begin{bmatrix} 0 \\\\ 0 \\\\ 1\\end{bmatrix}\\Bigg\\}$)은 $V$의 orthogonal basis가 된다."
      ]
    },
    {
      "cell_type": "markdown",
      "metadata": {
        "id": "g5pqFJ-f364s"
      },
      "source": [
        "A. False\n",
        "\n",
        "---\n",
        "\n"
      ]
    },
    {
      "cell_type": "markdown",
      "metadata": {
        "id": "G_7pVdqM37e6"
      },
      "source": [
        "25. 어떤 임의의 n개의 vector set이 주어졌을 때, Gram-Schmidt orthonormalization을 이용하면, 서로 orthonormal한 n개의 vector set으로 만들 수 있다."
      ]
    },
    {
      "cell_type": "markdown",
      "metadata": {
        "id": "lh9vdx1i384j"
      },
      "source": [
        "A. False\n",
        "\n",
        "---\n",
        "lin ind 필요\n"
      ]
    },
    {
      "cell_type": "markdown",
      "metadata": {
        "id": "GsYrYoROGt47"
      },
      "source": [
        "26. $A^TA=0$이면, $A=0$이다."
      ]
    },
    {
      "cell_type": "markdown",
      "metadata": {
        "id": "29ecICTyHxXp"
      },
      "source": [
        "A. Ture \n",
        "\n",
        "---\n",
        "i, i 가 길이인데 0이니까 0\n"
      ]
    },
    {
      "cell_type": "markdown",
      "metadata": {
        "id": "w-NamE7UHyCJ"
      },
      "source": [
        "27.  $x_1=x_3$를 만족하는 vector $x=\\begin{bmatrix}x_1\\\\x_2\\\\x_3\\end{bmatrix}$의 set을 $H$라고 하자. $H$는 $R^3$의 subspace이다."
      ]
    },
    {
      "cell_type": "markdown",
      "metadata": {
        "id": "7ORa6wKLN3L3"
      },
      "source": [
        "A. True\n",
        "\n",
        "\n"
      ]
    },
    {
      "cell_type": "markdown",
      "metadata": {
        "id": "tj1ZH9iQN3_K"
      },
      "source": [
        "28. $x_2=1$를 만족하는 vector $x=\\begin{bmatrix}x_1\\\\x_2\\\\x_3\\end{bmatrix}$의 set을 $H$라고 하자. $H$는 $R^3$의 subspace이다.\n"
      ]
    },
    {
      "cell_type": "markdown",
      "metadata": {
        "id": "QBL2L_fcNMSG"
      },
      "source": [
        "A. False\n",
        "\n"
      ]
    },
    {
      "cell_type": "markdown",
      "metadata": {
        "id": "jbbAoZjXOGIZ"
      },
      "source": [
        "29. $x_1x_2=0$를 만족하는 vector $x=\\begin{bmatrix}x_1\\\\x_2\\\\x_3\\end{bmatrix}$의 set을 $H$라고 하자. $H$는 $R^3$의 subspace이다.\n"
      ]
    },
    {
      "cell_type": "markdown",
      "metadata": {
        "id": "pQZ1_R-iOGKW"
      },
      "source": [
        "A. False\n",
        "\n",
        "---\n",
        "\n"
      ]
    },
    {
      "cell_type": "markdown",
      "metadata": {
        "id": "AIqhJvWJOGMX"
      },
      "source": [
        "30. $x_1+x_2+x_3=0$를 만족하는 vector $x=\\begin{bmatrix}x_1\\\\x_2\\\\x_3\\end{bmatrix}$의 set을 $H$라고 하자. $H$는 $R^3$의 subspace이다.\n"
      ]
    },
    {
      "cell_type": "markdown",
      "metadata": {
        "id": "pdIzoVhpOGOQ"
      },
      "source": [
        "A. true\n",
        "\n",
        "---\n",
        "\n"
      ]
    },
    {
      "cell_type": "markdown",
      "metadata": {
        "id": "zx7abeVJPhf_"
      },
      "source": [
        "31. span$\\Bigg\\{\\begin{bmatrix}1 \\\\ 2 \\\\ 3 \\end{bmatrix}, \\begin{bmatrix}1 \\\\ 3 \\\\ 5 \\end{bmatrix} \\Bigg\\}$를  $H$라고 하자. $H$는 $R^3$의 subspace이다.\n"
      ]
    },
    {
      "cell_type": "markdown",
      "metadata": {
        "id": "0s_wTu57O9cG"
      },
      "source": [
        "A.T\n",
        "\n",
        "---\n",
        "\n"
      ]
    },
    {
      "cell_type": "markdown",
      "metadata": {
        "id": "KSgA0etYQzsW"
      },
      "source": [
        "32. 어떤 vector $x$를 subspace $H$로 orthogonal projection 하는 matrix는 여러 개가 나올 수 있다. (31번 H)"
      ]
    },
    {
      "cell_type": "markdown",
      "metadata": {
        "id": "o0UMIr_XQ-8t"
      },
      "source": [
        "A. False\n",
        "\n",
        "---\n",
        "\n"
      ]
    },
    {
      "cell_type": "markdown",
      "metadata": {
        "id": "KqQM7cs3RAAS"
      },
      "source": [
        "33. Least square 문제에서 error, $b - Ax$는 0이 나올 수 없다."
      ]
    },
    {
      "cell_type": "markdown",
      "metadata": {
        "id": "K6quBrfQRBbD"
      },
      "source": [
        "A.False\n",
        "\n",
        "---\n",
        "\n"
      ]
    },
    {
      "cell_type": "markdown",
      "metadata": {
        "id": "SKZS9f3PRCEf"
      },
      "source": [
        "34. QR factorization은 square matrix에만 할 수 있다.  "
      ]
    },
    {
      "cell_type": "markdown",
      "metadata": {
        "id": "FNcTLayLRC39"
      },
      "source": [
        "A. False\n",
        "\n",
        "---\n",
        "\n"
      ]
    }
  ],
  "metadata": {
    "colab": {
      "collapsed_sections": [],
      "name": "[Quiz] Linear algebra.ipynb",
      "provenance": []
    },
    "interpreter": {
      "hash": "6f9b4e903e38bfd606aa85746352f0c68a834a97143e8a5ff660a0ae957bcf1b"
    },
    "kernelspec": {
      "display_name": "Python 3.10.4 ('2022_AI_expert-VdvU_stD')",
      "language": "python",
      "name": "python3"
    },
    "language_info": {
      "codemirror_mode": {
        "name": "ipython",
        "version": 3
      },
      "file_extension": ".py",
      "mimetype": "text/x-python",
      "name": "python",
      "nbconvert_exporter": "python",
      "pygments_lexer": "ipython3",
      "version": "3.10.4"
    }
  },
  "nbformat": 4,
  "nbformat_minor": 0
}
