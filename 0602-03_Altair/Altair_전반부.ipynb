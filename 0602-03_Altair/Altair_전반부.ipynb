{
  "nbformat": 4,
  "nbformat_minor": 0,
  "metadata": {
    "colab": {
      "name": "Altair 전반부.ipynb",
      "provenance": [],
      "collapsed_sections": [],
      "toc_visible": true
    },
    "kernelspec": {
      "name": "python3",
      "display_name": "Python 3"
    },
    "language_info": {
      "name": "python"
    }
  },
  "cells": [
    {
      "cell_type": "markdown",
      "source": [
        "# **1. Intro**"
      ],
      "metadata": {
        "id": "b72azEjiLWeB"
      }
    },
    {
      "cell_type": "markdown",
      "source": [
        "## 환경 설정, 데이터 불러오기\n",
        "\n"
      ],
      "metadata": {
        "id": "eA-dW3XjMJHl"
      }
    },
    {
      "cell_type": "code",
      "source": [
        "import altair as alt\n",
        "import pandas as pd"
      ],
      "metadata": {
        "id": "ZRL151o-LZEb"
      },
      "execution_count": null,
      "outputs": []
    },
    {
      "cell_type": "code",
      "source": [
        "from vega_datasets import data\n",
        "\n",
        "data.list_datasets()"
      ],
      "metadata": {
        "id": "Ktb6KlsoMQrb"
      },
      "execution_count": null,
      "outputs": []
    },
    {
      "cell_type": "code",
      "source": [
        "cars = data.cars()\n",
        "cars.head()"
      ],
      "metadata": {
        "id": "Jt_RsqVeMXdR"
      },
      "execution_count": null,
      "outputs": []
    },
    {
      "cell_type": "markdown",
      "source": [
        "## Tidy Dataset"
      ],
      "metadata": {
        "id": "nE4qC2LsMovy"
      }
    },
    {
      "cell_type": "code",
      "source": [
        "pew_url = \"https://raw.githubusercontent.com/nickhould/tidy-data-python/master/data/pew-raw.csv\"\n",
        "pew_df = pd.read_csv(pew_url)\n",
        "pew_df"
      ],
      "metadata": {
        "id": "lCpkcCmPMrZg"
      },
      "execution_count": null,
      "outputs": []
    },
    {
      "cell_type": "code",
      "source": [
        "formatted_df = pd.melt(pew_df,[\"religion\"], var_name=\"income\", value_name=\"freq\")\n",
        "formatted_df = formatted_df.sort_values(by=[\"religion\"])\n",
        "formatted_df.head(10)"
      ],
      "metadata": {
        "id": "m9IyRyPONEpY"
      },
      "execution_count": null,
      "outputs": []
    },
    {
      "cell_type": "code",
      "source": [
        "weather_no_tidy =  pd.DataFrame({\n",
        "    'city': ['Seattle', 'New York','Chicago'],\n",
        "    'Apr': [2.68, 3.94, 3.62],\n",
        "    'Aug': [0.97, 4.13, 3.98],\n",
        "    'Dec': [5.31, 3.58, 2.56],\n",
        "})\n",
        "\n",
        "weather_no_tidy"
      ],
      "metadata": {
        "id": "P47gHWsNOZo_"
      },
      "execution_count": null,
      "outputs": []
    },
    {
      "cell_type": "code",
      "source": [
        "weather_tidy = pd.DataFrame({\n",
        "    'city': ['Seattle', 'Seattle', 'Seattle', 'New York', 'New York', 'New York', 'Chicago', 'Chicago', 'Chicago'],\n",
        "    'month': ['Apr', 'Aug', 'Dec','Apr', 'Aug', 'Dec','Apr', 'Aug', 'Dec'],\n",
        "    'precip': [2.68, 0.97, 5.31, 3.94, 4.13, 3.58, 3.62, 3.98, 2.56]\n",
        "})\n",
        "\n",
        "weather_tidy"
      ],
      "metadata": {
        "id": "Lb2neuniNhYX"
      },
      "execution_count": null,
      "outputs": []
    },
    {
      "cell_type": "markdown",
      "source": [
        "## Simple Example"
      ],
      "metadata": {
        "id": "3mhb9b11QXen"
      }
    },
    {
      "cell_type": "markdown",
      "source": [
        "### bar chart"
      ],
      "metadata": {
        "id": "Tvhrp7tLQ6B5"
      }
    },
    {
      "cell_type": "code",
      "source": [
        "source = pd.DataFrame({\n",
        "    'a': ['A', 'B', 'C', 'D', 'E', 'F', 'G', 'H', 'I'],\n",
        "    'b': [28, 55, 43, 91, 81, 53, 19, 87, 52]\n",
        "})\n",
        "\n",
        "# TODO (36p)\n"
      ],
      "metadata": {
        "id": "syGJilxAQg7h"
      },
      "execution_count": null,
      "outputs": []
    },
    {
      "cell_type": "code",
      "source": [
        "source2 = alt.Data(values=[{'a': 'A', 'b': 28},\n",
        "                        {'a': 'B', 'b': 55},\n",
        "                        {'a': 'C', 'b': 43},\n",
        "                        {'a': 'D', 'b': 91},\n",
        "                        {'a': 'E', 'b': 81},\n",
        "                        {'a': 'F', 'b': 53},\n",
        "                        {'a': 'G', 'b': 19},\n",
        "                        {'a': 'H', 'b': 87},\n",
        "                        {'a': 'I', 'b': 52}])\n",
        "\n",
        "# TODO (37p)\n"
      ],
      "metadata": {
        "id": "vgUJU2EwQoBm"
      },
      "execution_count": null,
      "outputs": []
    },
    {
      "cell_type": "markdown",
      "source": [
        "### Scatterplot"
      ],
      "metadata": {
        "id": "bapN0mdVQ7YQ"
      }
    },
    {
      "cell_type": "code",
      "source": [
        "url = data.cars.url\n",
        "# TODO (39p)\n"
      ],
      "metadata": {
        "id": "eOxJAzwqQ8FU"
      },
      "execution_count": null,
      "outputs": []
    },
    {
      "cell_type": "code",
      "source": [
        "cars = data.cars()\n",
        "# TODO (39p)"
      ],
      "metadata": {
        "id": "InusArHoRSFm"
      },
      "execution_count": null,
      "outputs": []
    },
    {
      "cell_type": "markdown",
      "source": [
        "## Wide-form vs Long-form"
      ],
      "metadata": {
        "id": "u_Mkkpe2RYo_"
      }
    },
    {
      "cell_type": "code",
      "source": [
        "wide_form = pd.DataFrame({'Date': ['2007-10-01', '2007-11-01', '2007-12-01'],\n",
        "                          'AAPL': [189.95, 182.22, 198.08],\n",
        "                          'AAMZ': [89.15, 90.56, 92.64],\n",
        "                          'GOOG': [707.00, 693.00, 691.48]\n",
        "                          })\n",
        "wide_form"
      ],
      "metadata": {
        "id": "K5aP_NgLRZ7l"
      },
      "execution_count": null,
      "outputs": []
    },
    {
      "cell_type": "code",
      "source": [
        "long_form = pd.DataFrame({'Date': ['2007-10-01', '2007-11-01', '2007-12-01',\n",
        "                                  '2007-10-01', '2007-11-01', '2007-12-01',\n",
        "                                  '2007-10-01', '2007-11-01', '2007-12-01'],\n",
        "                         'company': ['AAPL', 'AAPL', 'AAPL',\n",
        "                                     'AMZN', 'AMZN', 'AMZN',\n",
        "                                     'GOOG', 'GOOG', 'GOOG',],\n",
        "                         'price': [190, 182, 198, 90, 91, 92, 707, 690, 691]})\n",
        "\n",
        "\n",
        "long_form "
      ],
      "metadata": {
        "id": "gRdwLIUUReJr"
      },
      "execution_count": null,
      "outputs": []
    },
    {
      "cell_type": "code",
      "source": [
        "# TODO (44p)\n",
        "alt.Chart(long_form).mark_line().encode(\n",
        "    \n",
        ")"
      ],
      "metadata": {
        "id": "fXK-sdpzRlTr"
      },
      "execution_count": null,
      "outputs": []
    },
    {
      "cell_type": "markdown",
      "source": [
        "# **2. Encodings**"
      ],
      "metadata": {
        "id": "h1YzQzetRwM2"
      }
    },
    {
      "cell_type": "code",
      "source": [
        "from vega_datasets import data\n",
        "\n",
        "cars = data.cars()\n",
        "\n",
        "alt.Chart(cars).mark_point().encode(\n",
        "    x='Horsepower',\n",
        "    y='Miles_per_Gallon',\n",
        "    color='Origin',\n",
        "    shape='Origin'\n",
        ")"
      ],
      "metadata": {
        "id": "sKt6Kj91R6HW"
      },
      "execution_count": null,
      "outputs": []
    },
    {
      "cell_type": "markdown",
      "source": [
        "## Short-form vs Long-form"
      ],
      "metadata": {
        "id": "TUhctgNhS17M"
      }
    },
    {
      "cell_type": "code",
      "source": [
        "# TODO (49p)\n",
        "alt.Chart(cars).mark_point().encode(\n",
        "    \n",
        ")"
      ],
      "metadata": {
        "id": "BBsiO1Y8SnvU"
      },
      "execution_count": null,
      "outputs": []
    },
    {
      "cell_type": "code",
      "source": [
        "# TODO (49p)\n",
        "alt.Chart(cars).mark_point().encode(\n",
        "    \n",
        ")"
      ],
      "metadata": {
        "id": "rhN73xAzS7ca"
      },
      "execution_count": null,
      "outputs": []
    },
    {
      "cell_type": "code",
      "source": [
        "gapminder = data.gapminder()\n",
        "data2000 = gapminder.loc[gapminder['year'] == 2000]\n",
        "data2000.head(5)"
      ],
      "metadata": {
        "id": "kR3s92ze_E0G"
      },
      "execution_count": null,
      "outputs": []
    },
    {
      "cell_type": "markdown",
      "source": [
        "## X, Y"
      ],
      "metadata": {
        "id": "jhMNicYZ_Tp9"
      }
    },
    {
      "cell_type": "code",
      "source": [
        "# TODO (51-52p)\n",
        "alt.Chart(data2000).mark_point().encode(\n",
        "    \n",
        ")"
      ],
      "metadata": {
        "id": "E8Z8-XAD_OVa"
      },
      "execution_count": null,
      "outputs": []
    },
    {
      "cell_type": "markdown",
      "source": [
        "### Data Types"
      ],
      "metadata": {
        "id": "2TM5FzibAv6V"
      }
    },
    {
      "cell_type": "code",
      "source": [
        "pop = data.population()\n",
        "\n",
        "\n",
        "base = alt.Chart(pop).mark_bar().encode(\n",
        "    # TODO (53p)\n",
        "    \n",
        ").properties(\n",
        "    width=200,\n",
        "    height=200\n",
        ")\n",
        "\n",
        "alt.hconcat(\n",
        "  base.encode(\n",
        "      x='year:Q'\n",
        "      ).properties(title='year:quantitative'),\n",
        "  base.encode(\n",
        "      x='year:O'\n",
        "      ).properties(title='year:ordinal')\n",
        ")"
      ],
      "metadata": {
        "id": "LTVbX4GV_klc"
      },
      "execution_count": null,
      "outputs": []
    },
    {
      "cell_type": "code",
      "source": [
        "# TODO (54p)\n",
        "alt.Chart(data2000).mark_point().encode(\n",
        "    \n",
        ")"
      ],
      "metadata": {
        "id": "QVY478rZ_0Ao"
      },
      "execution_count": null,
      "outputs": []
    },
    {
      "cell_type": "markdown",
      "source": [
        "### Zero Baseline, Nice number"
      ],
      "metadata": {
        "id": "s1Dmcfd0AzRw"
      }
    },
    {
      "cell_type": "code",
      "source": [
        "# TODO (55-56p)\n",
        "alt.Chart(data2000).mark_point().encode(\n",
        "    \n",
        ")"
      ],
      "metadata": {
        "id": "CJ7O4LCcAysr"
      },
      "execution_count": null,
      "outputs": []
    },
    {
      "cell_type": "markdown",
      "source": [
        "## Size"
      ],
      "metadata": {
        "id": "JTPI6GqhBFpc"
      }
    },
    {
      "cell_type": "code",
      "source": [
        "# TODO (57-58p)\n",
        "alt.Chart(data2000).mark_point().encode(\n",
        "\n",
        ")\n"
      ],
      "metadata": {
        "id": "B_f9jQ2cBGJM"
      },
      "execution_count": null,
      "outputs": []
    },
    {
      "cell_type": "markdown",
      "source": [
        "## Color, Opacity, Shape"
      ],
      "metadata": {
        "id": "CFQmCQ2vBUf9"
      }
    },
    {
      "cell_type": "code",
      "source": [
        "# TODO (60-61p)\n",
        "base = alt.Chart(cars).mark_point().encode(\n",
        "    \n",
        ").properties(\n",
        "    width=150,\n",
        "    height=150\n",
        ")\n",
        "\n"
      ],
      "metadata": {
        "id": "5Ay_fWaBBVRe"
      },
      "execution_count": null,
      "outputs": []
    },
    {
      "cell_type": "code",
      "source": [
        "# TODO (62-67p)\n",
        "alt.Chart(data2000).mark_point().encode(\n",
        "    \n",
        ")"
      ],
      "metadata": {
        "id": "n_gDnSb2BdS5"
      },
      "execution_count": null,
      "outputs": []
    },
    {
      "cell_type": "markdown",
      "source": [
        "## Tooltip"
      ],
      "metadata": {
        "id": "LNOng2MPB3hm"
      }
    },
    {
      "cell_type": "code",
      "source": [
        "# TODO (69-70p)\n",
        "alt.Chart(data2000).mark_point(filled=True).encode(\n",
        "    \n",
        ")"
      ],
      "metadata": {
        "id": "dffCNHdnCE7I"
      },
      "execution_count": null,
      "outputs": []
    },
    {
      "cell_type": "markdown",
      "source": [
        "## Ordering"
      ],
      "metadata": {
        "id": "obGTKrCMCrBJ"
      }
    },
    {
      "cell_type": "code",
      "source": [
        "barley = data.barley()\n",
        "\n",
        "# TODO (71p)\n",
        "alt.Chart(barley).mark_bar().encode(\n",
        "    \n",
        ")"
      ],
      "metadata": {
        "id": "1V_3UBD0Cro5"
      },
      "execution_count": null,
      "outputs": []
    },
    {
      "cell_type": "code",
      "source": [
        "# TODO (72p)\n",
        "driving = data.driving()\n",
        "\n",
        "\n",
        "alt.Chart(driving).mark_line(point=True).encode(\n",
        "    )"
      ],
      "metadata": {
        "id": "CtQK5IWUC0rP"
      },
      "execution_count": null,
      "outputs": []
    },
    {
      "cell_type": "markdown",
      "source": [
        "## Colum, Row Facets"
      ],
      "metadata": {
        "id": "k2TBI28PDIOK"
      }
    },
    {
      "cell_type": "code",
      "source": [
        "# TODO (75-77p)\n",
        "alt.Chart(data2000).mark_point(filled=True).encode(\n",
        "    alt.X('fertility:Q'),\n",
        "    alt.Y('life_expect:Q'),\n",
        "    alt.Size('pop:Q', scale=alt.Scale(range=[0, 1000])),\n",
        "    alt.Color('cluster:N', legend=None),\n",
        "    alt.OpacityValue(0.5),\n",
        "    alt.Tooltip('country:N'),\n",
        "    alt.Order('pop:Q', sort='descending'),\n",
        "\n",
        ")"
      ],
      "metadata": {
        "id": "_AWTtGyxDYkR"
      },
      "execution_count": null,
      "outputs": []
    },
    {
      "cell_type": "markdown",
      "source": [
        "## Binning, Aggregation"
      ],
      "metadata": {
        "id": "D1kaWhu5Djxq"
      }
    },
    {
      "cell_type": "code",
      "source": [
        "cars = data.cars()\n",
        "\n",
        "# TODO (79-81p)\n",
        "alt.Chart(cars).mark_bar().encode(\n",
        "    alt.X('Horsepower'),\n",
        "    y='count()'\n",
        ")"
      ],
      "metadata": {
        "id": "rWWqBK0JDlQO"
      },
      "execution_count": null,
      "outputs": []
    },
    {
      "cell_type": "markdown",
      "source": [
        "## Sorting"
      ],
      "metadata": {
        "id": "ewIGsDOyE1xS"
      }
    },
    {
      "cell_type": "code",
      "source": [
        "barley = data.barley()\n",
        "\n",
        "\n",
        "base = alt.Chart(barley).mark_bar().encode(\n",
        "    y='mean(yield):Q',\n",
        "    color=alt.Color('mean(yield):Q', legend=None)\n",
        ").properties(width=100, height=100)"
      ],
      "metadata": {
        "id": "4DZa6gcGE2Yo"
      },
      "execution_count": null,
      "outputs": []
    },
    {
      "cell_type": "code",
      "source": [
        "# TODO (82-83p)\n",
        "\n",
        "ascending | descending | explicit | sortfield"
      ],
      "metadata": {
        "id": "8Ioj236WE48Q"
      },
      "execution_count": null,
      "outputs": []
    },
    {
      "cell_type": "code",
      "source": [
        "alt.Chart(barley).mark_rect().encode(\n",
        "    alt.X('mean(yield):Q', sort='ascending'),\n",
        "    # TODO (84p)\n",
        ")\n",
        "\n",
        "# sort=['Morris', 'Duluth', 'Grand Rapids', 'University Farm', 'Waseca', 'Crookston']"
      ],
      "metadata": {
        "id": "GdhB6486E6VU"
      },
      "execution_count": null,
      "outputs": []
    },
    {
      "cell_type": "markdown",
      "source": [
        "# **3. Marks**"
      ],
      "metadata": {
        "id": "Zh1YzlJsFcw_"
      }
    },
    {
      "cell_type": "markdown",
      "source": [
        "## Point"
      ],
      "metadata": {
        "id": "cgKGgEKLGBAL"
      }
    },
    {
      "cell_type": "code",
      "source": [
        "alt.Chart(data2000).mark_point().encode(\n",
        "    alt.X('fertility:Q'),\n",
        "    alt.Y('cluster:N'),\n",
        "    alt.Shape('cluster:N')\n",
        ")"
      ],
      "metadata": {
        "id": "VFW6QeFiGEa-"
      },
      "execution_count": null,
      "outputs": []
    },
    {
      "cell_type": "markdown",
      "source": [
        "### Circle"
      ],
      "metadata": {
        "id": "pFDHIsQHGJls"
      }
    },
    {
      "cell_type": "code",
      "source": [
        "alt.Chart(data2000)"
      ],
      "metadata": {
        "id": "aIfmt7KTF4qg"
      },
      "execution_count": null,
      "outputs": []
    },
    {
      "cell_type": "markdown",
      "source": [
        "### Square"
      ],
      "metadata": {
        "id": "bjclPVW0HyuY"
      }
    },
    {
      "cell_type": "code",
      "source": [
        "alt.Chart(data2000)"
      ],
      "metadata": {
        "id": "naZjkmrYHJKi"
      },
      "execution_count": null,
      "outputs": []
    },
    {
      "cell_type": "markdown",
      "source": [
        "## Tick"
      ],
      "metadata": {
        "id": "SN9tIYOvH45Z"
      }
    },
    {
      "cell_type": "code",
      "source": [
        "alt.Chart(data2000)"
      ],
      "metadata": {
        "id": "sdYcJic6H5q5"
      },
      "execution_count": null,
      "outputs": []
    },
    {
      "cell_type": "markdown",
      "source": [
        "## Bar"
      ],
      "metadata": {
        "id": "gG6m7Nn0H9dm"
      }
    },
    {
      "cell_type": "code",
      "source": [
        "alt.Chart(data2000).mark_bar().encode(\n",
        "    alt.X('country:N'),\n",
        "    alt.Y('pop:Q')\n",
        ")"
      ],
      "metadata": {
        "id": "XlYYRpSzH-Db"
      },
      "execution_count": null,
      "outputs": []
    },
    {
      "cell_type": "markdown",
      "source": [
        "## Line"
      ],
      "metadata": {
        "id": "25EUc-8EIPlv"
      }
    },
    {
      "cell_type": "code",
      "source": [
        "alt.Chart(gapminder)"
      ],
      "metadata": {
        "id": "zZi0F0yBINX2"
      },
      "execution_count": null,
      "outputs": []
    },
    {
      "cell_type": "markdown",
      "source": [
        "## Area"
      ],
      "metadata": {
        "id": "0v06zg-iJd9t"
      }
    },
    {
      "cell_type": "code",
      "source": [
        "dataUS = gapminder.loc[gapminder[\"country\"] == \"United States\"]\n",
        "dataUS.head()"
      ],
      "metadata": {
        "id": "oWNnrNO7JcDo"
      },
      "execution_count": null,
      "outputs": []
    },
    {
      "cell_type": "code",
      "source": [
        "alt.Chart(dataUS).mark_area().encode(\n",
        "    \n",
        ")"
      ],
      "metadata": {
        "id": "KrbR7bZdJgTh"
      },
      "execution_count": null,
      "outputs": []
    },
    {
      "cell_type": "code",
      "source": [
        "dataNA = gapminder.loc[\n",
        "                  (gapminder[\"country\"] == \"United States\") | \n",
        "                  (gapminder[\"country\"] == \"Canada\") | \n",
        "                  (gapminder[\"country\"] == \"Mexico\") \n",
        "                  ]\n",
        "\n",
        "    \n",
        "dataNA.head()"
      ],
      "metadata": {
        "id": "WfrerJ0tJh0z"
      },
      "execution_count": null,
      "outputs": []
    },
    {
      "cell_type": "code",
      "source": [
        "alt.Chart(dataNA).mark_area().encode(\n",
        "    \n",
        ")"
      ],
      "metadata": {
        "id": "uSjOvObrJkXK"
      },
      "execution_count": null,
      "outputs": []
    },
    {
      "cell_type": "markdown",
      "source": [
        "## Text"
      ],
      "metadata": {
        "id": "PfVWDoGXJvgW"
      }
    },
    {
      "cell_type": "code",
      "source": [
        "texts = alt.Chart(data2000).mark_text(\n",
        "    align='left',\n",
        "    baseline='middle',\n",
        "    dx=6\n",
        ").encode(\n",
        "    \n",
        ")\n",
        "\n",
        "texts"
      ],
      "metadata": {
        "id": "-VDv_b7WJrVO"
      },
      "execution_count": null,
      "outputs": []
    },
    {
      "cell_type": "code",
      "source": [
        "bars = alt.Chart(data2000)\n",
        "\n",
        "bars"
      ],
      "metadata": {
        "id": "ozWveuwdJxPN"
      },
      "execution_count": null,
      "outputs": []
    },
    {
      "cell_type": "markdown",
      "source": [
        "# **4. Data Transformation**"
      ],
      "metadata": {
        "id": "mxqX377tJ7I0"
      }
    },
    {
      "cell_type": "markdown",
      "source": [
        "## Bin"
      ],
      "metadata": {
        "id": "PW05mkkiKlc1"
      }
    },
    {
      "cell_type": "code",
      "source": [
        "movies = data.movies()\n",
        "\n",
        "print(movies.shape)\n",
        "movies.head()"
      ],
      "metadata": {
        "id": "83Y1OcUxJzpb"
      },
      "execution_count": null,
      "outputs": []
    },
    {
      "cell_type": "code",
      "source": [
        "alt.Chart(movies).mark_circle().encode(\n",
        "    alt.X('Rotten_Tomatoes_Rating:Q'),\n",
        "    alt.Y('IMDB_Rating'),\n",
        ")"
      ],
      "metadata": {
        "id": "TKG3S86iKGGS"
      },
      "execution_count": null,
      "outputs": []
    },
    {
      "cell_type": "markdown",
      "source": [
        "## Aggregate"
      ],
      "metadata": {
        "id": "GnviFScqKnCJ"
      }
    },
    {
      "cell_type": "code",
      "source": [
        "alt.Chart(movies).mark_bar().encode(\n",
        "    alt.X('average(Rotten_Tomatoes_Rating):Q'),\n",
        "    alt.Y('Major_Genre:N')\n",
        ")"
      ],
      "metadata": {
        "id": "aBNw3v7yKiwc"
      },
      "execution_count": null,
      "outputs": []
    },
    {
      "cell_type": "markdown",
      "source": [
        "## Calculate"
      ],
      "metadata": {
        "id": "k58VaMaCLC8y"
      }
    },
    {
      "cell_type": "code",
      "source": [
        "# TODO (38p)\n",
        "alt.Chart(movies)"
      ],
      "metadata": {
        "id": "US8sGxzDK4_W"
      },
      "execution_count": null,
      "outputs": []
    },
    {
      "cell_type": "markdown",
      "source": [
        "## Filter"
      ],
      "metadata": {
        "id": "rPiDxOwfNIpQ"
      }
    },
    {
      "cell_type": "code",
      "source": [
        "alt.Chart(movies).mark_circle().encode(\n",
        "    alt.X('Rotten_Tomatoes_Rating:Q'),\n",
        "    alt.Y('IMDB_Rating:Q')\n",
        ")"
      ],
      "metadata": {
        "id": "kkwebMVENQzG"
      },
      "execution_count": null,
      "outputs": []
    },
    {
      "cell_type": "markdown",
      "source": [
        "## 응용"
      ],
      "metadata": {
        "id": "9ZrM2Q5TNYxZ"
      }
    },
    {
      "cell_type": "code",
      "source": [
        "selection = alt.selection_single(fields=['Major_Genre'])\n",
        "\n",
        "top=alt.Chart().mark_circle().encode(\n",
        "    x='Rotten_Tomatoes_Rating:Q',\n",
        "    y='IMDB_Rating:Q'\n",
        ").properties(\n",
        "    width=600, height=200\n",
        ").transform_filter(\n",
        "    selection\n",
        ")\n",
        "\n",
        "bottom = alt.Chart().mark_bar().encode(\n",
        "    x='Major_Genre:O',\n",
        "    y='count()',\n",
        "    color=alt.condition(selection, alt.value('steelblue'), alt.value('lightgray'))\n",
        ").properties(\n",
        "    width=600, height=100,\n",
        "    selection=selection\n",
        ")\n",
        "\n",
        "alt.vconcat(\n",
        "    top, \n",
        "    bottom,\n",
        "    data=movies\n",
        ")"
      ],
      "metadata": {
        "id": "rAw3zhW9NMu5"
      },
      "execution_count": null,
      "outputs": []
    }
  ]
}