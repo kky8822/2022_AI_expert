{
 "cells": [
  {
   "cell_type": "markdown",
   "metadata": {},
   "source": [
    "1. Good programming: Divide & Conquer !!\n",
    "\n",
    "2. Key properties of Function and Calss\n",
    "   - Decomposition (Devided)\n",
    "    - self-contained: none interaction with arounded stuffs\n",
    "    - reusable\n",
    "    - organized\n",
    "    - coherent\n",
    "   - Abatraction: Black Box !! (But) Doc string !!\n",
    "\n",
    "3. pythontutor.com\n"
   ]
  },
  {
   "cell_type": "code",
   "execution_count": 1,
   "metadata": {},
   "outputs": [
    {
     "ename": "UnboundLocalError",
     "evalue": "local variable 'x' referenced before assignment",
     "output_type": "error",
     "traceback": [
      "\u001b[1;31m---------------------------------------------------------------------------\u001b[0m",
      "\u001b[1;31mUnboundLocalError\u001b[0m                         Traceback (most recent call last)",
      "\u001b[1;32mC:\\Users\\AI40~1\\AppData\\Local\\Temp/ipykernel_8808/1732790051.py\u001b[0m in \u001b[0;36m<module>\u001b[1;34m\u001b[0m\n\u001b[0;32m      3\u001b[0m \u001b[1;33m\u001b[0m\u001b[0m\n\u001b[0;32m      4\u001b[0m \u001b[0mx\u001b[0m\u001b[1;33m=\u001b[0m\u001b[1;36m5\u001b[0m\u001b[1;33m\u001b[0m\u001b[1;33m\u001b[0m\u001b[0m\n\u001b[1;32m----> 5\u001b[1;33m \u001b[0mh\u001b[0m\u001b[1;33m(\u001b[0m\u001b[0mx\u001b[0m\u001b[1;33m)\u001b[0m\u001b[1;33m\u001b[0m\u001b[1;33m\u001b[0m\u001b[0m\n\u001b[0m\u001b[0;32m      6\u001b[0m \u001b[0mprint\u001b[0m\u001b[1;33m(\u001b[0m\u001b[0mx\u001b[0m\u001b[1;33m)\u001b[0m\u001b[1;33m\u001b[0m\u001b[1;33m\u001b[0m\u001b[0m\n",
      "\u001b[1;32mC:\\Users\\AI40~1\\AppData\\Local\\Temp/ipykernel_8808/1732790051.py\u001b[0m in \u001b[0;36mh\u001b[1;34m(y)\u001b[0m\n\u001b[0;32m      1\u001b[0m \u001b[1;32mdef\u001b[0m \u001b[0mh\u001b[0m\u001b[1;33m(\u001b[0m\u001b[0my\u001b[0m\u001b[1;33m)\u001b[0m\u001b[1;33m:\u001b[0m\u001b[1;33m\u001b[0m\u001b[1;33m\u001b[0m\u001b[0m\n\u001b[1;32m----> 2\u001b[1;33m     \u001b[0mx\u001b[0m\u001b[1;33m=\u001b[0m\u001b[0mx\u001b[0m\u001b[1;33m+\u001b[0m\u001b[1;36m1\u001b[0m\u001b[1;33m\u001b[0m\u001b[1;33m\u001b[0m\u001b[0m\n\u001b[0m\u001b[0;32m      3\u001b[0m \u001b[1;33m\u001b[0m\u001b[0m\n\u001b[0;32m      4\u001b[0m \u001b[0mx\u001b[0m\u001b[1;33m=\u001b[0m\u001b[1;36m5\u001b[0m\u001b[1;33m\u001b[0m\u001b[1;33m\u001b[0m\u001b[0m\n\u001b[0;32m      5\u001b[0m \u001b[0mh\u001b[0m\u001b[1;33m(\u001b[0m\u001b[0mx\u001b[0m\u001b[1;33m)\u001b[0m\u001b[1;33m\u001b[0m\u001b[1;33m\u001b[0m\u001b[0m\n",
      "\u001b[1;31mUnboundLocalError\u001b[0m: local variable 'x' referenced before assignment"
     ]
    }
   ],
   "source": [
    "def h(y):\n",
    "    x=x+1\n",
    "\n",
    "x=5\n",
    "h(x)\n",
    "print(x)"
   ]
  },
  {
   "cell_type": "code",
   "execution_count": null,
   "metadata": {},
   "outputs": [
    {
     "name": "stdout",
     "output_type": "stream",
     "text": [
      "['b', 'c', 'd']\n",
      "['a', 'c', 'd']\n"
     ]
    }
   ],
   "source": [
    "def mutable_test(xin):\n",
    "    y=xin\n",
    "    y[0]=\"a\"\n",
    "\n",
    "test = [\"b\",\"c\",\"d\"]\n",
    "print(test)\n",
    "mutable_test(test)\n",
    "print(test)"
   ]
  },
  {
   "cell_type": "code",
   "execution_count": null,
   "metadata": {},
   "outputs": [
    {
     "name": "stdout",
     "output_type": "stream",
     "text": [
      "Hello  3\n",
      "Hello  2\n",
      "Hello  1\n",
      "0\n",
      "comming here  0\n",
      "comming here  1\n",
      "comming here  2\n"
     ]
    }
   ],
   "source": [
    "def hello(count):\n",
    "    if count == 0:\n",
    "        print(count)\n",
    "    else:\n",
    "        print(\"Hello \", count)\n",
    "        count -= 1\n",
    "        hello(count)\n",
    "        print(\"comming here \", count)\n",
    "hello(3)"
   ]
  },
  {
   "cell_type": "code",
   "execution_count": null,
   "metadata": {},
   "outputs": [
    {
     "name": "stdout",
     "output_type": "stream",
     "text": [
      "()\n",
      "1\n",
      "(1,)\n",
      "(1,)\n",
      "1 2\n",
      "2 1\n"
     ]
    }
   ],
   "source": [
    "a=()\n",
    "b=(1)\n",
    "c=(1,)\n",
    "d=1,\n",
    "\n",
    "print(a)\n",
    "print(b)\n",
    "print(c)\n",
    "print(d)\n",
    "\n",
    "x=1\n",
    "y=2\n",
    "print(x,y)\n",
    "(x,y) = (y,x)\n",
    "print(x,y)\n",
    "\n"
   ]
  },
  {
   "cell_type": "code",
   "execution_count": null,
   "metadata": {},
   "outputs": [
    {
     "name": "stdout",
     "output_type": "stream",
     "text": [
      "1619860756480\n",
      "1619831561024\n"
     ]
    }
   ],
   "source": [
    "L1 = [1,2,3]\n",
    "L2 = [4,5]\n",
    "print(id(L1))\n",
    "L1 = L1 + L2\n",
    "print(id(L1))"
   ]
  },
  {
   "cell_type": "markdown",
   "metadata": {},
   "source": [
    "# List:\n",
    "1. mutate\n",
    "2. alias (shallow copy: only copying id): b=a\n",
    "3. cloning:\n",
    "   - b=a[:]\n",
    "   - b=a.copy()\n",
    "   - b=copy.copy(a)\n",
    "   - b=list(a)\n",
    "   - b=[x for x in a]\n",
    "   - b=a+[]\n",
    "   - in case of nested list ? only 1st depth values are copied\n",
    "4. deepcopy:\n",
    "   - b=copy.deepcopy(a)\n",
    "    \n",
    "\n"
   ]
  },
  {
   "cell_type": "code",
   "execution_count": null,
   "metadata": {},
   "outputs": [
    {
     "name": "stdout",
     "output_type": "stream",
     "text": [
      "[1, 2, 3]\n",
      "[1, 2]\n"
     ]
    }
   ],
   "source": [
    "a=[1,2]\n",
    "a1 = a + []\n",
    "a.append(3)\n",
    "print(a)\n",
    "print(a1)\n"
   ]
  },
  {
   "cell_type": "markdown",
   "metadata": {},
   "source": [
    "# Practice"
   ]
  },
  {
   "cell_type": "code",
   "execution_count": 4,
   "metadata": {},
   "outputs": [
    {
     "name": "stdout",
     "output_type": "stream",
     "text": [
      "<class 'range'>\n"
     ]
    }
   ],
   "source": [
    "a = range(10)\n",
    "\n",
    "print(type(a))"
   ]
  },
  {
   "cell_type": "markdown",
   "metadata": {},
   "source": [
    "피보나치 수는 아래와 같다.\n",
    "\n",
    "𝐹_1=𝐹_2=1\n",
    "𝐹_𝑛=𝐹_(𝑛−1)+𝐹_(𝑛−2)\n",
    "\t\n",
    "n=1부터 n=20까지의 피보나치 수를 출력하라\n"
   ]
  },
  {
   "cell_type": "code",
   "execution_count": 16,
   "metadata": {},
   "outputs": [
    {
     "name": "stdout",
     "output_type": "stream",
     "text": [
      "n=1 1\n",
      "n=2 1\n",
      "n=3 2\n",
      "n=4 3\n",
      "n=5 5\n",
      "n=6 8\n",
      "n=7 13\n",
      "n=8 21\n",
      "n=9 34\n",
      "n=10 55\n",
      "n=11 89\n",
      "n=12 144\n",
      "n=13 233\n",
      "n=14 377\n",
      "n=15 610\n",
      "n=16 987\n",
      "n=17 1597\n",
      "n=18 2584\n",
      "n=19 4181\n",
      "n=20 6765\n"
     ]
    },
    {
     "data": {
      "image/png": "[encoded data removed]",
      "text/plain": [
       "<Figure size 432x288 with 1 Axes>"
      ]
     },
     "metadata": {
      "needs_background": "light"
     },
     "output_type": "display_data"
    }
   ],
   "source": [
    "import matplotlib.pyplot as plt\n",
    "\n",
    "def pivo(n):\n",
    "    if n == 1:\n",
    "        return 1\n",
    "    elif n==2:\n",
    "        return 1\n",
    "    else:\n",
    "        return pivo(n-1)+pivo(n-2)\n",
    "\n",
    "x=[]; data=[]\n",
    "for i in range(20):\n",
    "    print(f\"n={i+1}\", pivo(i+1))\n",
    "    x.append(i+1)\n",
    "    data.append(pivo(i+1))\n",
    "\n",
    "plt.scatter(x,data)\n",
    "plt.show()\n",
    "\n",
    "     "
   ]
  },
  {
   "cell_type": "markdown",
   "metadata": {},
   "source": [
    "Bubble sort는 array의 각 element가 다음 element와 대소를 비교하여 위치를 바꾸는 것을 array 길이만큼 반복하는 sorting 방법이다.\n",
    "임의의 sample list 에 대해 bubble sort 하는 함수를 만들어라.\n",
    "(증가하는 순서로)\n"
   ]
  },
  {
   "cell_type": "code",
   "execution_count": 30,
   "metadata": {},
   "outputs": [
    {
     "name": "stdout",
     "output_type": "stream",
     "text": [
      "[15 14 16  6  8 10  3  7 13 18 11  5  0 12  4  2  9 17 19  1]\n",
      "[ 0  1  2  3  4  5  6  7  8  9 10 11 12 13 14 15 16 17 18 19]\n"
     ]
    }
   ],
   "source": [
    "import random\n",
    "import numpy as np\n",
    "\n",
    "def bubblesort(a):\n",
    "    for i in range(len(a)):\n",
    "        for j in range(len(a)-1):\n",
    "            if a[j] > a[j+1]:\n",
    "                (a[j], a[j+1]) = (a[j+1], a[j])\n",
    "    return a\n",
    "\n",
    "a = np.arange(20)\n",
    "random.shuffle(a)\n",
    "print(a)\n",
    "bubble_sorted_a = bubblesort(a)\n",
    "print(bubble_sorted_a)"
   ]
  },
  {
   "cell_type": "markdown",
   "metadata": {},
   "source": [
    "체스의 Knight는 (2,1) 만큼 8방향으로 이동할 수 있다. 1~8까지의 input에 따라 체스말의 움직임을 보여주고자 한다. 7x7 체스판의 중심(3, 3)에서 시작한다고 한다.\n",
    " 구현하여야 하는 것은 이러하다.\n",
    "1. 종료 신호(q)를 받을 때 까지 1~8 또는 종료 신호(q) input을 받아 체스 말을 움직이는 기능.\n",
    "2. 체스 말이 이동할 칸이 7x7 밖일 경우 움직이지 않고 불가능하다고 알리는 기능\n",
    "3. 한 번 움직일 때마다  O과 -등으로 7x7 칸과 체스말의 위치를 표현하는 기능.\n"
   ]
  },
  {
   "cell_type": "code",
   "execution_count": 212,
   "metadata": {},
   "outputs": [
    {
     "name": "stdout",
     "output_type": "stream",
     "text": [
      "Initial position as follows:\n",
      "⬜⬜⬜⬜⬜⬜⬜\n",
      "⬜⬜⬜⬜⬜⬜⬜\n",
      "⬜⬜⬜⬜⬜⬜⬜\n",
      "⬜⬜⬜⬛⬜⬜⬜\n",
      "⬜⬜⬜⬜⬜⬜⬜\n",
      "⬜⬜⬜⬜⬜⬜⬜\n",
      "⬜⬜⬜⬜⬜⬜⬜\n",
      "Enter current move: 1\n",
      "⬜⬜⬜⬜⬜⬜⬜\n",
      "⬜⬜⬜⬜⬜⬜⬜\n",
      "⬜⬜⬜⬜⬜⬜⬜\n",
      "⬜⬜⬜⬜⬜⬜⬜\n",
      "⬜⬛⬜⬜⬜⬜⬜\n",
      "⬜⬜⬜⬜⬜⬜⬜\n",
      "⬜⬜⬜⬜⬜⬜⬜\n",
      "Enter current move: q\n"
     ]
    }
   ],
   "source": [
    "import numpy as np\n",
    "import random\n",
    "\n",
    "def Knight_movement(ind):\n",
    "    moving_arr = np.asarray([\n",
    "        [1,2],\n",
    "        [1,-2],\n",
    "        [2, 1],\n",
    "        [2, -1],\n",
    "        [-1, 2],\n",
    "        [-1,-2],\n",
    "        [-2, 1],\n",
    "        [-2,-1],\n",
    "    ])\n",
    "\n",
    "    return moving_arr[ind]\n",
    "\n",
    "def warning(pos):\n",
    "    if pos[0] < 0 or pos[1] < 0 or pos[0] > 6 or pos[1] > 6:\n",
    "        return False\n",
    "    else:\n",
    "        return True\n",
    "\n",
    "def run():\n",
    "    pos = np.asarray([3,3])\n",
    "    print(\"Initial position as follows:\")\n",
    "    plot(pos)\n",
    "    pos_list = []\n",
    "    count = 0\n",
    "    while True:\n",
    "        print(\"Enter current move: \", end=\"\")\n",
    "        inp = input()\n",
    "        print(inp)\n",
    "        if inp == \"q\":\n",
    "            break\n",
    "        elif int(inp) in [x+1 for x in range(8)]:\n",
    "            movement = Knight_movement(int(inp))\n",
    "            pos_next = pos + movement\n",
    "            q = warning(pos_next)\n",
    "            if q == False:\n",
    "                # print(i+1, q, pos, movement)\n",
    "                print(\"movement of Knigt is failed\")\n",
    "                plot(pos)\n",
    "                break\n",
    "            else:\n",
    "                # print(i+1, q, pos, movement)\n",
    "                pos = pos_next\n",
    "                plot(pos)\n",
    "\n",
    "def plot(pos):\n",
    "    # print(pos)\n",
    "    for i in range(7):\n",
    "        for j in range(7):\n",
    "            if i==pos[0] and j==pos[1]:\n",
    "                print(\"⬛\", end=\"\")\n",
    "            else:\n",
    "                print(\"⬜\", end=\"\")\n",
    "        print(\"\")\n",
    "                \n",
    "run()\n",
    "\n",
    "    \n",
    "\n"
   ]
  }
 ],
 "metadata": {
  "interpreter": {
   "hash": "1bfe3a196d1bb422a938c3b9f8039d45c65b7557cdd2212a1c8c7996008efe25"
  },
  "kernelspec": {
   "display_name": "Python 3.9.7 ('base')",
   "language": "python",
   "name": "python3"
  },
  "language_info": {
   "codemirror_mode": {
    "name": "ipython",
    "version": 3
   },
   "file_extension": ".py",
   "mimetype": "text/x-python",
   "name": "python",
   "nbconvert_exporter": "python",
   "pygments_lexer": "ipython3",
   "version": "3.9.7"
  },
  "orig_nbformat": 4
 },
 "nbformat": 4,
 "nbformat_minor": 2
}
