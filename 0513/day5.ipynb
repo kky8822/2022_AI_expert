{
 "cells": [
  {
   "cell_type": "code",
   "execution_count": 4,
   "metadata": {},
   "outputs": [
    {
     "data": {
      "text/plain": [
       "'1.11.0+cu113'"
      ]
     },
     "execution_count": 4,
     "metadata": {},
     "output_type": "execute_result"
    }
   ],
   "source": [
    "import torch\n",
    "import inspect\n",
    "\n",
    "torch.__version__"
   ]
  },
  {
   "cell_type": "markdown",
   "metadata": {},
   "source": [
    "## Practice"
   ]
  },
  {
   "cell_type": "markdown",
   "metadata": {},
   "source": [
    "## Mnist model prediction"
   ]
  },
  {
   "cell_type": "code",
   "execution_count": 1,
   "metadata": {},
   "outputs": [
    {
     "name": "stdout",
     "output_type": "stream",
     "text": [
      "cuda\n",
      "torch.Size([9999, 1, 28, 28])\n",
      "torch.Size([9999])\n",
      "Test: Acc 96.42964296429643\n"
     ]
    },
    {
     "ename": "TypeError",
     "evalue": "can't convert cuda:0 device type tensor to numpy. Use Tensor.cpu() to copy the tensor to host memory first.",
     "output_type": "error",
     "traceback": [
      "\u001b[0;31m---------------------------------------------------------------------------\u001b[0m",
      "\u001b[0;31mTypeError\u001b[0m                                 Traceback (most recent call last)",
      "\u001b[1;32m/home/kky8822/2022_AI_expert/Day_5/day5.ipynb Cell 4'\u001b[0m in \u001b[0;36m<cell line: 89>\u001b[0;34m()\u001b[0m\n\u001b[1;32m     <a href='vscode-notebook-cell://wsl%2Bubuntu/home/kky8822/2022_AI_expert/Day_5/day5.ipynb#ch0000003vscode-remote?line=90'>91</a>\u001b[0m plt\u001b[39m.\u001b[39maxis(\u001b[39m'\u001b[39m\u001b[39moff\u001b[39m\u001b[39m'\u001b[39m)\n\u001b[1;32m     <a href='vscode-notebook-cell://wsl%2Bubuntu/home/kky8822/2022_AI_expert/Day_5/day5.ipynb#ch0000003vscode-remote?line=91'>92</a>\u001b[0m plt\u001b[39m.\u001b[39mtitle(\u001b[39mf\u001b[39m\u001b[39m\"\u001b[39m\u001b[39mPredicted : \u001b[39m\u001b[39m{\u001b[39;00mpred[\u001b[39m50\u001b[39m\u001b[39m+\u001b[39mi]\u001b[39m}\u001b[39;00m\u001b[39m\"\u001b[39m)\n\u001b[0;32m---> <a href='vscode-notebook-cell://wsl%2Bubuntu/home/kky8822/2022_AI_expert/Day_5/day5.ipynb#ch0000003vscode-remote?line=92'>93</a>\u001b[0m plt\u001b[39m.\u001b[39;49mimshow(img\u001b[39m.\u001b[39;49msqueeze(\u001b[39m0\u001b[39;49m))\n",
      "File \u001b[0;32m~/.local/share/virtualenvs/2022_AI_expert-VdvU_stD/lib/python3.10/site-packages/matplotlib/_api/deprecation.py:459\u001b[0m, in \u001b[0;36mmake_keyword_only.<locals>.wrapper\u001b[0;34m(*args, **kwargs)\u001b[0m\n\u001b[1;32m    <a href='file:///home/kky8822/.local/share/virtualenvs/2022_AI_expert-VdvU_stD/lib/python3.10/site-packages/matplotlib/_api/deprecation.py?line=452'>453</a>\u001b[0m \u001b[39mif\u001b[39;00m \u001b[39mlen\u001b[39m(args) \u001b[39m>\u001b[39m name_idx:\n\u001b[1;32m    <a href='file:///home/kky8822/.local/share/virtualenvs/2022_AI_expert-VdvU_stD/lib/python3.10/site-packages/matplotlib/_api/deprecation.py?line=453'>454</a>\u001b[0m     warn_deprecated(\n\u001b[1;32m    <a href='file:///home/kky8822/.local/share/virtualenvs/2022_AI_expert-VdvU_stD/lib/python3.10/site-packages/matplotlib/_api/deprecation.py?line=454'>455</a>\u001b[0m         since, message\u001b[39m=\u001b[39m\u001b[39m\"\u001b[39m\u001b[39mPassing the \u001b[39m\u001b[39m%(name)s\u001b[39;00m\u001b[39m \u001b[39m\u001b[39m%(obj_type)s\u001b[39;00m\u001b[39m \u001b[39m\u001b[39m\"\u001b[39m\n\u001b[1;32m    <a href='file:///home/kky8822/.local/share/virtualenvs/2022_AI_expert-VdvU_stD/lib/python3.10/site-packages/matplotlib/_api/deprecation.py?line=455'>456</a>\u001b[0m         \u001b[39m\"\u001b[39m\u001b[39mpositionally is deprecated since Matplotlib \u001b[39m\u001b[39m%(since)s\u001b[39;00m\u001b[39m; the \u001b[39m\u001b[39m\"\u001b[39m\n\u001b[1;32m    <a href='file:///home/kky8822/.local/share/virtualenvs/2022_AI_expert-VdvU_stD/lib/python3.10/site-packages/matplotlib/_api/deprecation.py?line=456'>457</a>\u001b[0m         \u001b[39m\"\u001b[39m\u001b[39mparameter will become keyword-only \u001b[39m\u001b[39m%(removal)s\u001b[39;00m\u001b[39m.\u001b[39m\u001b[39m\"\u001b[39m,\n\u001b[1;32m    <a href='file:///home/kky8822/.local/share/virtualenvs/2022_AI_expert-VdvU_stD/lib/python3.10/site-packages/matplotlib/_api/deprecation.py?line=457'>458</a>\u001b[0m         name\u001b[39m=\u001b[39mname, obj_type\u001b[39m=\u001b[39m\u001b[39mf\u001b[39m\u001b[39m\"\u001b[39m\u001b[39mparameter of \u001b[39m\u001b[39m{\u001b[39;00mfunc\u001b[39m.\u001b[39m\u001b[39m__name__\u001b[39m\u001b[39m}\u001b[39;00m\u001b[39m()\u001b[39m\u001b[39m\"\u001b[39m)\n\u001b[0;32m--> <a href='file:///home/kky8822/.local/share/virtualenvs/2022_AI_expert-VdvU_stD/lib/python3.10/site-packages/matplotlib/_api/deprecation.py?line=458'>459</a>\u001b[0m \u001b[39mreturn\u001b[39;00m func(\u001b[39m*\u001b[39;49margs, \u001b[39m*\u001b[39;49m\u001b[39m*\u001b[39;49mkwargs)\n",
      "File \u001b[0;32m~/.local/share/virtualenvs/2022_AI_expert-VdvU_stD/lib/python3.10/site-packages/matplotlib/pyplot.py:2652\u001b[0m, in \u001b[0;36mimshow\u001b[0;34m(X, cmap, norm, aspect, interpolation, alpha, vmin, vmax, origin, extent, interpolation_stage, filternorm, filterrad, resample, url, data, **kwargs)\u001b[0m\n\u001b[1;32m   <a href='file:///home/kky8822/.local/share/virtualenvs/2022_AI_expert-VdvU_stD/lib/python3.10/site-packages/matplotlib/pyplot.py?line=2645'>2646</a>\u001b[0m \u001b[39m@_copy_docstring_and_deprecators\u001b[39m(Axes\u001b[39m.\u001b[39mimshow)\n\u001b[1;32m   <a href='file:///home/kky8822/.local/share/virtualenvs/2022_AI_expert-VdvU_stD/lib/python3.10/site-packages/matplotlib/pyplot.py?line=2646'>2647</a>\u001b[0m \u001b[39mdef\u001b[39;00m \u001b[39mimshow\u001b[39m(\n\u001b[1;32m   <a href='file:///home/kky8822/.local/share/virtualenvs/2022_AI_expert-VdvU_stD/lib/python3.10/site-packages/matplotlib/pyplot.py?line=2647'>2648</a>\u001b[0m         X, cmap\u001b[39m=\u001b[39m\u001b[39mNone\u001b[39;00m, norm\u001b[39m=\u001b[39m\u001b[39mNone\u001b[39;00m, aspect\u001b[39m=\u001b[39m\u001b[39mNone\u001b[39;00m, interpolation\u001b[39m=\u001b[39m\u001b[39mNone\u001b[39;00m,\n\u001b[1;32m   <a href='file:///home/kky8822/.local/share/virtualenvs/2022_AI_expert-VdvU_stD/lib/python3.10/site-packages/matplotlib/pyplot.py?line=2648'>2649</a>\u001b[0m         alpha\u001b[39m=\u001b[39m\u001b[39mNone\u001b[39;00m, vmin\u001b[39m=\u001b[39m\u001b[39mNone\u001b[39;00m, vmax\u001b[39m=\u001b[39m\u001b[39mNone\u001b[39;00m, origin\u001b[39m=\u001b[39m\u001b[39mNone\u001b[39;00m, extent\u001b[39m=\u001b[39m\u001b[39mNone\u001b[39;00m, \u001b[39m*\u001b[39m,\n\u001b[1;32m   <a href='file:///home/kky8822/.local/share/virtualenvs/2022_AI_expert-VdvU_stD/lib/python3.10/site-packages/matplotlib/pyplot.py?line=2649'>2650</a>\u001b[0m         interpolation_stage\u001b[39m=\u001b[39m\u001b[39mNone\u001b[39;00m, filternorm\u001b[39m=\u001b[39m\u001b[39mTrue\u001b[39;00m, filterrad\u001b[39m=\u001b[39m\u001b[39m4.0\u001b[39m,\n\u001b[1;32m   <a href='file:///home/kky8822/.local/share/virtualenvs/2022_AI_expert-VdvU_stD/lib/python3.10/site-packages/matplotlib/pyplot.py?line=2650'>2651</a>\u001b[0m         resample\u001b[39m=\u001b[39m\u001b[39mNone\u001b[39;00m, url\u001b[39m=\u001b[39m\u001b[39mNone\u001b[39;00m, data\u001b[39m=\u001b[39m\u001b[39mNone\u001b[39;00m, \u001b[39m*\u001b[39m\u001b[39m*\u001b[39mkwargs):\n\u001b[0;32m-> <a href='file:///home/kky8822/.local/share/virtualenvs/2022_AI_expert-VdvU_stD/lib/python3.10/site-packages/matplotlib/pyplot.py?line=2651'>2652</a>\u001b[0m     __ret \u001b[39m=\u001b[39m gca()\u001b[39m.\u001b[39;49mimshow(\n\u001b[1;32m   <a href='file:///home/kky8822/.local/share/virtualenvs/2022_AI_expert-VdvU_stD/lib/python3.10/site-packages/matplotlib/pyplot.py?line=2652'>2653</a>\u001b[0m         X, cmap\u001b[39m=\u001b[39;49mcmap, norm\u001b[39m=\u001b[39;49mnorm, aspect\u001b[39m=\u001b[39;49maspect,\n\u001b[1;32m   <a href='file:///home/kky8822/.local/share/virtualenvs/2022_AI_expert-VdvU_stD/lib/python3.10/site-packages/matplotlib/pyplot.py?line=2653'>2654</a>\u001b[0m         interpolation\u001b[39m=\u001b[39;49minterpolation, alpha\u001b[39m=\u001b[39;49malpha, vmin\u001b[39m=\u001b[39;49mvmin,\n\u001b[1;32m   <a href='file:///home/kky8822/.local/share/virtualenvs/2022_AI_expert-VdvU_stD/lib/python3.10/site-packages/matplotlib/pyplot.py?line=2654'>2655</a>\u001b[0m         vmax\u001b[39m=\u001b[39;49mvmax, origin\u001b[39m=\u001b[39;49morigin, extent\u001b[39m=\u001b[39;49mextent,\n\u001b[1;32m   <a href='file:///home/kky8822/.local/share/virtualenvs/2022_AI_expert-VdvU_stD/lib/python3.10/site-packages/matplotlib/pyplot.py?line=2655'>2656</a>\u001b[0m         interpolation_stage\u001b[39m=\u001b[39;49minterpolation_stage,\n\u001b[1;32m   <a href='file:///home/kky8822/.local/share/virtualenvs/2022_AI_expert-VdvU_stD/lib/python3.10/site-packages/matplotlib/pyplot.py?line=2656'>2657</a>\u001b[0m         filternorm\u001b[39m=\u001b[39;49mfilternorm, filterrad\u001b[39m=\u001b[39;49mfilterrad, resample\u001b[39m=\u001b[39;49mresample,\n\u001b[1;32m   <a href='file:///home/kky8822/.local/share/virtualenvs/2022_AI_expert-VdvU_stD/lib/python3.10/site-packages/matplotlib/pyplot.py?line=2657'>2658</a>\u001b[0m         url\u001b[39m=\u001b[39;49murl, \u001b[39m*\u001b[39;49m\u001b[39m*\u001b[39;49m({\u001b[39m\"\u001b[39;49m\u001b[39mdata\u001b[39;49m\u001b[39m\"\u001b[39;49m: data} \u001b[39mif\u001b[39;49;00m data \u001b[39mis\u001b[39;49;00m \u001b[39mnot\u001b[39;49;00m \u001b[39mNone\u001b[39;49;00m \u001b[39melse\u001b[39;49;00m {}),\n\u001b[1;32m   <a href='file:///home/kky8822/.local/share/virtualenvs/2022_AI_expert-VdvU_stD/lib/python3.10/site-packages/matplotlib/pyplot.py?line=2658'>2659</a>\u001b[0m         \u001b[39m*\u001b[39;49m\u001b[39m*\u001b[39;49mkwargs)\n\u001b[1;32m   <a href='file:///home/kky8822/.local/share/virtualenvs/2022_AI_expert-VdvU_stD/lib/python3.10/site-packages/matplotlib/pyplot.py?line=2659'>2660</a>\u001b[0m     sci(__ret)\n\u001b[1;32m   <a href='file:///home/kky8822/.local/share/virtualenvs/2022_AI_expert-VdvU_stD/lib/python3.10/site-packages/matplotlib/pyplot.py?line=2660'>2661</a>\u001b[0m     \u001b[39mreturn\u001b[39;00m __ret\n",
      "File \u001b[0;32m~/.local/share/virtualenvs/2022_AI_expert-VdvU_stD/lib/python3.10/site-packages/matplotlib/_api/deprecation.py:459\u001b[0m, in \u001b[0;36mmake_keyword_only.<locals>.wrapper\u001b[0;34m(*args, **kwargs)\u001b[0m\n\u001b[1;32m    <a href='file:///home/kky8822/.local/share/virtualenvs/2022_AI_expert-VdvU_stD/lib/python3.10/site-packages/matplotlib/_api/deprecation.py?line=452'>453</a>\u001b[0m \u001b[39mif\u001b[39;00m \u001b[39mlen\u001b[39m(args) \u001b[39m>\u001b[39m name_idx:\n\u001b[1;32m    <a href='file:///home/kky8822/.local/share/virtualenvs/2022_AI_expert-VdvU_stD/lib/python3.10/site-packages/matplotlib/_api/deprecation.py?line=453'>454</a>\u001b[0m     warn_deprecated(\n\u001b[1;32m    <a href='file:///home/kky8822/.local/share/virtualenvs/2022_AI_expert-VdvU_stD/lib/python3.10/site-packages/matplotlib/_api/deprecation.py?line=454'>455</a>\u001b[0m         since, message\u001b[39m=\u001b[39m\u001b[39m\"\u001b[39m\u001b[39mPassing the \u001b[39m\u001b[39m%(name)s\u001b[39;00m\u001b[39m \u001b[39m\u001b[39m%(obj_type)s\u001b[39;00m\u001b[39m \u001b[39m\u001b[39m\"\u001b[39m\n\u001b[1;32m    <a href='file:///home/kky8822/.local/share/virtualenvs/2022_AI_expert-VdvU_stD/lib/python3.10/site-packages/matplotlib/_api/deprecation.py?line=455'>456</a>\u001b[0m         \u001b[39m\"\u001b[39m\u001b[39mpositionally is deprecated since Matplotlib \u001b[39m\u001b[39m%(since)s\u001b[39;00m\u001b[39m; the \u001b[39m\u001b[39m\"\u001b[39m\n\u001b[1;32m    <a href='file:///home/kky8822/.local/share/virtualenvs/2022_AI_expert-VdvU_stD/lib/python3.10/site-packages/matplotlib/_api/deprecation.py?line=456'>457</a>\u001b[0m         \u001b[39m\"\u001b[39m\u001b[39mparameter will become keyword-only \u001b[39m\u001b[39m%(removal)s\u001b[39;00m\u001b[39m.\u001b[39m\u001b[39m\"\u001b[39m,\n\u001b[1;32m    <a href='file:///home/kky8822/.local/share/virtualenvs/2022_AI_expert-VdvU_stD/lib/python3.10/site-packages/matplotlib/_api/deprecation.py?line=457'>458</a>\u001b[0m         name\u001b[39m=\u001b[39mname, obj_type\u001b[39m=\u001b[39m\u001b[39mf\u001b[39m\u001b[39m\"\u001b[39m\u001b[39mparameter of \u001b[39m\u001b[39m{\u001b[39;00mfunc\u001b[39m.\u001b[39m\u001b[39m__name__\u001b[39m\u001b[39m}\u001b[39;00m\u001b[39m()\u001b[39m\u001b[39m\"\u001b[39m)\n\u001b[0;32m--> <a href='file:///home/kky8822/.local/share/virtualenvs/2022_AI_expert-VdvU_stD/lib/python3.10/site-packages/matplotlib/_api/deprecation.py?line=458'>459</a>\u001b[0m \u001b[39mreturn\u001b[39;00m func(\u001b[39m*\u001b[39;49margs, \u001b[39m*\u001b[39;49m\u001b[39m*\u001b[39;49mkwargs)\n",
      "File \u001b[0;32m~/.local/share/virtualenvs/2022_AI_expert-VdvU_stD/lib/python3.10/site-packages/matplotlib/__init__.py:1412\u001b[0m, in \u001b[0;36m_preprocess_data.<locals>.inner\u001b[0;34m(ax, data, *args, **kwargs)\u001b[0m\n\u001b[1;32m   <a href='file:///home/kky8822/.local/share/virtualenvs/2022_AI_expert-VdvU_stD/lib/python3.10/site-packages/matplotlib/__init__.py?line=1408'>1409</a>\u001b[0m \u001b[39m@functools\u001b[39m\u001b[39m.\u001b[39mwraps(func)\n\u001b[1;32m   <a href='file:///home/kky8822/.local/share/virtualenvs/2022_AI_expert-VdvU_stD/lib/python3.10/site-packages/matplotlib/__init__.py?line=1409'>1410</a>\u001b[0m \u001b[39mdef\u001b[39;00m \u001b[39minner\u001b[39m(ax, \u001b[39m*\u001b[39margs, data\u001b[39m=\u001b[39m\u001b[39mNone\u001b[39;00m, \u001b[39m*\u001b[39m\u001b[39m*\u001b[39mkwargs):\n\u001b[1;32m   <a href='file:///home/kky8822/.local/share/virtualenvs/2022_AI_expert-VdvU_stD/lib/python3.10/site-packages/matplotlib/__init__.py?line=1410'>1411</a>\u001b[0m     \u001b[39mif\u001b[39;00m data \u001b[39mis\u001b[39;00m \u001b[39mNone\u001b[39;00m:\n\u001b[0;32m-> <a href='file:///home/kky8822/.local/share/virtualenvs/2022_AI_expert-VdvU_stD/lib/python3.10/site-packages/matplotlib/__init__.py?line=1411'>1412</a>\u001b[0m         \u001b[39mreturn\u001b[39;00m func(ax, \u001b[39m*\u001b[39;49m\u001b[39mmap\u001b[39;49m(sanitize_sequence, args), \u001b[39m*\u001b[39;49m\u001b[39m*\u001b[39;49mkwargs)\n\u001b[1;32m   <a href='file:///home/kky8822/.local/share/virtualenvs/2022_AI_expert-VdvU_stD/lib/python3.10/site-packages/matplotlib/__init__.py?line=1413'>1414</a>\u001b[0m     bound \u001b[39m=\u001b[39m new_sig\u001b[39m.\u001b[39mbind(ax, \u001b[39m*\u001b[39margs, \u001b[39m*\u001b[39m\u001b[39m*\u001b[39mkwargs)\n\u001b[1;32m   <a href='file:///home/kky8822/.local/share/virtualenvs/2022_AI_expert-VdvU_stD/lib/python3.10/site-packages/matplotlib/__init__.py?line=1414'>1415</a>\u001b[0m     auto_label \u001b[39m=\u001b[39m (bound\u001b[39m.\u001b[39marguments\u001b[39m.\u001b[39mget(label_namer)\n\u001b[1;32m   <a href='file:///home/kky8822/.local/share/virtualenvs/2022_AI_expert-VdvU_stD/lib/python3.10/site-packages/matplotlib/__init__.py?line=1415'>1416</a>\u001b[0m                   \u001b[39mor\u001b[39;00m bound\u001b[39m.\u001b[39mkwargs\u001b[39m.\u001b[39mget(label_namer))\n",
      "File \u001b[0;32m~/.local/share/virtualenvs/2022_AI_expert-VdvU_stD/lib/python3.10/site-packages/matplotlib/axes/_axes.py:5481\u001b[0m, in \u001b[0;36mAxes.imshow\u001b[0;34m(self, X, cmap, norm, aspect, interpolation, alpha, vmin, vmax, origin, extent, interpolation_stage, filternorm, filterrad, resample, url, **kwargs)\u001b[0m\n\u001b[1;32m   <a href='file:///home/kky8822/.local/share/virtualenvs/2022_AI_expert-VdvU_stD/lib/python3.10/site-packages/matplotlib/axes/_axes.py?line=5473'>5474</a>\u001b[0m \u001b[39mself\u001b[39m\u001b[39m.\u001b[39mset_aspect(aspect)\n\u001b[1;32m   <a href='file:///home/kky8822/.local/share/virtualenvs/2022_AI_expert-VdvU_stD/lib/python3.10/site-packages/matplotlib/axes/_axes.py?line=5474'>5475</a>\u001b[0m im \u001b[39m=\u001b[39m mimage\u001b[39m.\u001b[39mAxesImage(\u001b[39mself\u001b[39m, cmap, norm, interpolation,\n\u001b[1;32m   <a href='file:///home/kky8822/.local/share/virtualenvs/2022_AI_expert-VdvU_stD/lib/python3.10/site-packages/matplotlib/axes/_axes.py?line=5475'>5476</a>\u001b[0m                       origin, extent, filternorm\u001b[39m=\u001b[39mfilternorm,\n\u001b[1;32m   <a href='file:///home/kky8822/.local/share/virtualenvs/2022_AI_expert-VdvU_stD/lib/python3.10/site-packages/matplotlib/axes/_axes.py?line=5476'>5477</a>\u001b[0m                       filterrad\u001b[39m=\u001b[39mfilterrad, resample\u001b[39m=\u001b[39mresample,\n\u001b[1;32m   <a href='file:///home/kky8822/.local/share/virtualenvs/2022_AI_expert-VdvU_stD/lib/python3.10/site-packages/matplotlib/axes/_axes.py?line=5477'>5478</a>\u001b[0m                       interpolation_stage\u001b[39m=\u001b[39minterpolation_stage,\n\u001b[1;32m   <a href='file:///home/kky8822/.local/share/virtualenvs/2022_AI_expert-VdvU_stD/lib/python3.10/site-packages/matplotlib/axes/_axes.py?line=5478'>5479</a>\u001b[0m                       \u001b[39m*\u001b[39m\u001b[39m*\u001b[39mkwargs)\n\u001b[0;32m-> <a href='file:///home/kky8822/.local/share/virtualenvs/2022_AI_expert-VdvU_stD/lib/python3.10/site-packages/matplotlib/axes/_axes.py?line=5480'>5481</a>\u001b[0m im\u001b[39m.\u001b[39;49mset_data(X)\n\u001b[1;32m   <a href='file:///home/kky8822/.local/share/virtualenvs/2022_AI_expert-VdvU_stD/lib/python3.10/site-packages/matplotlib/axes/_axes.py?line=5481'>5482</a>\u001b[0m im\u001b[39m.\u001b[39mset_alpha(alpha)\n\u001b[1;32m   <a href='file:///home/kky8822/.local/share/virtualenvs/2022_AI_expert-VdvU_stD/lib/python3.10/site-packages/matplotlib/axes/_axes.py?line=5482'>5483</a>\u001b[0m \u001b[39mif\u001b[39;00m im\u001b[39m.\u001b[39mget_clip_path() \u001b[39mis\u001b[39;00m \u001b[39mNone\u001b[39;00m:\n\u001b[1;32m   <a href='file:///home/kky8822/.local/share/virtualenvs/2022_AI_expert-VdvU_stD/lib/python3.10/site-packages/matplotlib/axes/_axes.py?line=5483'>5484</a>\u001b[0m     \u001b[39m# image does not already have clipping set, clip to axes patch\u001b[39;00m\n",
      "File \u001b[0;32m~/.local/share/virtualenvs/2022_AI_expert-VdvU_stD/lib/python3.10/site-packages/matplotlib/image.py:702\u001b[0m, in \u001b[0;36m_ImageBase.set_data\u001b[0;34m(self, A)\u001b[0m\n\u001b[1;32m    <a href='file:///home/kky8822/.local/share/virtualenvs/2022_AI_expert-VdvU_stD/lib/python3.10/site-packages/matplotlib/image.py?line=699'>700</a>\u001b[0m \u001b[39mif\u001b[39;00m \u001b[39misinstance\u001b[39m(A, PIL\u001b[39m.\u001b[39mImage\u001b[39m.\u001b[39mImage):\n\u001b[1;32m    <a href='file:///home/kky8822/.local/share/virtualenvs/2022_AI_expert-VdvU_stD/lib/python3.10/site-packages/matplotlib/image.py?line=700'>701</a>\u001b[0m     A \u001b[39m=\u001b[39m pil_to_array(A)  \u001b[39m# Needed e.g. to apply png palette.\u001b[39;00m\n\u001b[0;32m--> <a href='file:///home/kky8822/.local/share/virtualenvs/2022_AI_expert-VdvU_stD/lib/python3.10/site-packages/matplotlib/image.py?line=701'>702</a>\u001b[0m \u001b[39mself\u001b[39m\u001b[39m.\u001b[39m_A \u001b[39m=\u001b[39m cbook\u001b[39m.\u001b[39;49msafe_masked_invalid(A, copy\u001b[39m=\u001b[39;49m\u001b[39mTrue\u001b[39;49;00m)\n\u001b[1;32m    <a href='file:///home/kky8822/.local/share/virtualenvs/2022_AI_expert-VdvU_stD/lib/python3.10/site-packages/matplotlib/image.py?line=703'>704</a>\u001b[0m \u001b[39mif\u001b[39;00m (\u001b[39mself\u001b[39m\u001b[39m.\u001b[39m_A\u001b[39m.\u001b[39mdtype \u001b[39m!=\u001b[39m np\u001b[39m.\u001b[39muint8 \u001b[39mand\u001b[39;00m\n\u001b[1;32m    <a href='file:///home/kky8822/.local/share/virtualenvs/2022_AI_expert-VdvU_stD/lib/python3.10/site-packages/matplotlib/image.py?line=704'>705</a>\u001b[0m         \u001b[39mnot\u001b[39;00m np\u001b[39m.\u001b[39mcan_cast(\u001b[39mself\u001b[39m\u001b[39m.\u001b[39m_A\u001b[39m.\u001b[39mdtype, \u001b[39mfloat\u001b[39m, \u001b[39m\"\u001b[39m\u001b[39msame_kind\u001b[39m\u001b[39m\"\u001b[39m)):\n\u001b[1;32m    <a href='file:///home/kky8822/.local/share/virtualenvs/2022_AI_expert-VdvU_stD/lib/python3.10/site-packages/matplotlib/image.py?line=705'>706</a>\u001b[0m     \u001b[39mraise\u001b[39;00m \u001b[39mTypeError\u001b[39;00m(\u001b[39m\"\u001b[39m\u001b[39mImage data of dtype \u001b[39m\u001b[39m{}\u001b[39;00m\u001b[39m cannot be converted to \u001b[39m\u001b[39m\"\u001b[39m\n\u001b[1;32m    <a href='file:///home/kky8822/.local/share/virtualenvs/2022_AI_expert-VdvU_stD/lib/python3.10/site-packages/matplotlib/image.py?line=706'>707</a>\u001b[0m                     \u001b[39m\"\u001b[39m\u001b[39mfloat\u001b[39m\u001b[39m\"\u001b[39m\u001b[39m.\u001b[39mformat(\u001b[39mself\u001b[39m\u001b[39m.\u001b[39m_A\u001b[39m.\u001b[39mdtype))\n",
      "File \u001b[0;32m~/.local/share/virtualenvs/2022_AI_expert-VdvU_stD/lib/python3.10/site-packages/matplotlib/cbook/__init__.py:701\u001b[0m, in \u001b[0;36msafe_masked_invalid\u001b[0;34m(x, copy)\u001b[0m\n\u001b[1;32m    <a href='file:///home/kky8822/.local/share/virtualenvs/2022_AI_expert-VdvU_stD/lib/python3.10/site-packages/matplotlib/cbook/__init__.py?line=699'>700</a>\u001b[0m \u001b[39mdef\u001b[39;00m \u001b[39msafe_masked_invalid\u001b[39m(x, copy\u001b[39m=\u001b[39m\u001b[39mFalse\u001b[39;00m):\n\u001b[0;32m--> <a href='file:///home/kky8822/.local/share/virtualenvs/2022_AI_expert-VdvU_stD/lib/python3.10/site-packages/matplotlib/cbook/__init__.py?line=700'>701</a>\u001b[0m     x \u001b[39m=\u001b[39m np\u001b[39m.\u001b[39;49marray(x, subok\u001b[39m=\u001b[39;49m\u001b[39mTrue\u001b[39;49;00m, copy\u001b[39m=\u001b[39;49mcopy)\n\u001b[1;32m    <a href='file:///home/kky8822/.local/share/virtualenvs/2022_AI_expert-VdvU_stD/lib/python3.10/site-packages/matplotlib/cbook/__init__.py?line=701'>702</a>\u001b[0m     \u001b[39mif\u001b[39;00m \u001b[39mnot\u001b[39;00m x\u001b[39m.\u001b[39mdtype\u001b[39m.\u001b[39misnative:\n\u001b[1;32m    <a href='file:///home/kky8822/.local/share/virtualenvs/2022_AI_expert-VdvU_stD/lib/python3.10/site-packages/matplotlib/cbook/__init__.py?line=702'>703</a>\u001b[0m         \u001b[39m# If we have already made a copy, do the byteswap in place, else make a\u001b[39;00m\n\u001b[1;32m    <a href='file:///home/kky8822/.local/share/virtualenvs/2022_AI_expert-VdvU_stD/lib/python3.10/site-packages/matplotlib/cbook/__init__.py?line=703'>704</a>\u001b[0m         \u001b[39m# copy with the byte order swapped.\u001b[39;00m\n\u001b[1;32m    <a href='file:///home/kky8822/.local/share/virtualenvs/2022_AI_expert-VdvU_stD/lib/python3.10/site-packages/matplotlib/cbook/__init__.py?line=704'>705</a>\u001b[0m         x \u001b[39m=\u001b[39m x\u001b[39m.\u001b[39mbyteswap(inplace\u001b[39m=\u001b[39mcopy)\u001b[39m.\u001b[39mnewbyteorder(\u001b[39m'\u001b[39m\u001b[39mN\u001b[39m\u001b[39m'\u001b[39m)  \u001b[39m# Swap to native order.\u001b[39;00m\n",
      "File \u001b[0;32m~/.local/share/virtualenvs/2022_AI_expert-VdvU_stD/lib/python3.10/site-packages/torch/_tensor.py:732\u001b[0m, in \u001b[0;36mTensor.__array__\u001b[0;34m(self, dtype)\u001b[0m\n\u001b[1;32m    <a href='file:///home/kky8822/.local/share/virtualenvs/2022_AI_expert-VdvU_stD/lib/python3.10/site-packages/torch/_tensor.py?line=729'>730</a>\u001b[0m     \u001b[39mreturn\u001b[39;00m handle_torch_function(Tensor\u001b[39m.\u001b[39m__array__, (\u001b[39mself\u001b[39m,), \u001b[39mself\u001b[39m, dtype\u001b[39m=\u001b[39mdtype)\n\u001b[1;32m    <a href='file:///home/kky8822/.local/share/virtualenvs/2022_AI_expert-VdvU_stD/lib/python3.10/site-packages/torch/_tensor.py?line=730'>731</a>\u001b[0m \u001b[39mif\u001b[39;00m dtype \u001b[39mis\u001b[39;00m \u001b[39mNone\u001b[39;00m:\n\u001b[0;32m--> <a href='file:///home/kky8822/.local/share/virtualenvs/2022_AI_expert-VdvU_stD/lib/python3.10/site-packages/torch/_tensor.py?line=731'>732</a>\u001b[0m     \u001b[39mreturn\u001b[39;00m \u001b[39mself\u001b[39;49m\u001b[39m.\u001b[39;49mnumpy()\n\u001b[1;32m    <a href='file:///home/kky8822/.local/share/virtualenvs/2022_AI_expert-VdvU_stD/lib/python3.10/site-packages/torch/_tensor.py?line=732'>733</a>\u001b[0m \u001b[39melse\u001b[39;00m:\n\u001b[1;32m    <a href='file:///home/kky8822/.local/share/virtualenvs/2022_AI_expert-VdvU_stD/lib/python3.10/site-packages/torch/_tensor.py?line=733'>734</a>\u001b[0m     \u001b[39mreturn\u001b[39;00m \u001b[39mself\u001b[39m\u001b[39m.\u001b[39mnumpy()\u001b[39m.\u001b[39mastype(dtype, copy\u001b[39m=\u001b[39m\u001b[39mFalse\u001b[39;00m)\n",
      "\u001b[0;31mTypeError\u001b[0m: can't convert cuda:0 device type tensor to numpy. Use Tensor.cpu() to copy the tensor to host memory first."
     ]
    },
    {
     "data": {
      "image/png": "[encoded data removed]",
      "text/plain": [
       "<Figure size 432x288 with 1 Axes>"
      ]
     },
     "metadata": {
      "needs_background": "light"
     },
     "output_type": "display_data"
    }
   ],
   "source": [
    "import csv\n",
    "import numpy as np\n",
    "import pandas as pd\n",
    "import torch\n",
    "import torch.nn as nn\n",
    "from torch.utils.data import Dataset, DataLoader\n",
    "import matplotlib.pyplot as plt\n",
    "# import matplotlib.pyplot as plt\n",
    "\n",
    "\n",
    "\n",
    "class DigitDataset(Dataset):\n",
    "    def __init__(self, x, y=None):\n",
    "        super(DigitDataset).__init__()\n",
    "        self.x = x\n",
    "        self.y = y\n",
    "    \n",
    "    def __getitem__(self, idx):\n",
    "        if self.y == None:\n",
    "            return self.x[idx]\n",
    "        return self.x[idx], self.y[idx]\n",
    "    \n",
    "    def __len__(self):\n",
    "        return len(self.x)\n",
    "\n",
    "class Net(nn.Module):\n",
    "    def __init__(self):\n",
    "        super(Net, self).__init__()\n",
    "\n",
    "        self.model = nn.Sequential(\n",
    "            nn.Flatten(),\n",
    "            nn.Linear(784,256),\n",
    "            nn.ReLU(),\n",
    "            nn.Linear(256,100),\n",
    "            nn.ReLU(),\n",
    "            nn.Linear(100,10)\n",
    "        )\n",
    "\n",
    "    def forward(self,x):\n",
    "        x = self.model(x)\n",
    "        x = torch.softmax(x, dim=-1)\n",
    "        return x\n",
    "\n",
    "\n",
    "### Prediction w/ mnist_net.pth\n",
    "test_data_path = './mnist_test.csv'\n",
    "saved_model_path = \"./mnist_net.pth\"\n",
    "device = 'cuda' if torch.cuda.is_available() else 'cpu'\n",
    "print(device)\n",
    "# device = 'cpu'\n",
    "\n",
    "df_test = pd.read_csv(test_data_path)\n",
    "\n",
    "_xx = torch.Tensor(df_test.iloc[:,1:].values).reshape(len(df_test), 28, 28)\n",
    "_xx = _xx.unsqueeze(1) # data strucurize to batch_size, depth, width, height\n",
    "_yy = torch.Tensor(df_test.iloc[:,0].values).type(torch.long)\n",
    "\n",
    "print(_xx.shape)\n",
    "print(_yy.shape)\n",
    "\n",
    "pretranind = torch.load(saved_model_path)\n",
    "pretranind.eval()\n",
    "\n",
    "if device == \"cuda\":\n",
    "    pretranind = pretranind.cuda()\n",
    "\n",
    "l = len(df_test)\n",
    "valid_x = _xx\n",
    "valid_y = _yy\n",
    "testset = DigitDataset(valid_x, valid_y)\n",
    "test_dl = DataLoader(testset, batch_size = 250)\n",
    "acc=0\n",
    "\n",
    "for tx, ty in test_dl:\n",
    "    tx = tx.to(device)\n",
    "    ty = ty.to(device)\n",
    "\n",
    "    ty_hat = pretranind(tx)\n",
    "    test_pred = ty_hat.max(dim=1)[1]\n",
    "    acc += (test_pred==ty).sum().item()\n",
    "\n",
    "print(f\"Test: Acc {100*acc/len(df_test)}\")\n",
    "test_x = _xx.to(device)\n",
    "\n",
    "outputs = pretranind(test_x)\n",
    "_, pred = torch.max(outputs, 1)\n",
    "pred = pred.cuda()\n",
    "\n",
    "for i, img in enumerate(test_x[50:56]):\n",
    "    plt.subplot(2, 3, i+1)\n",
    "    plt.axis('off')\n",
    "    plt.title(f\"Predicted : {pred[50+i]}\")\n",
    "    plt.imshow(img.squeeze(0))\n",
    "\n",
    "\n",
    "\n"
   ]
  }
 ],
 "metadata": {
  "interpreter": {
   "hash": "6f9b4e903e38bfd606aa85746352f0c68a834a97143e8a5ff660a0ae957bcf1b"
  },
  "kernelspec": {
   "display_name": "Python 3.10.4 ('2022_AI_expert-VdvU_stD')",
   "language": "python",
   "name": "python3"
  },
  "language_info": {
   "codemirror_mode": {
    "name": "ipython",
    "version": 3
   },
   "file_extension": ".py",
   "mimetype": "text/x-python",
   "name": "python",
   "nbconvert_exporter": "python",
   "pygments_lexer": "ipython3",
   "version": "3.10.4"
  },
  "orig_nbformat": 4
 },
 "nbformat": 4,
 "nbformat_minor": 2
}
