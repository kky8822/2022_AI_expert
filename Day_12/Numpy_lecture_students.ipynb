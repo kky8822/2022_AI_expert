{
  "cells": [
    {
      "cell_type": "markdown",
      "metadata": {
        "id": "UiLHrpHf3b5i"
      },
      "source": [
        "Numpy를 import해서 버전을 확인해봅시다"
      ]
    },
    {
      "cell_type": "code",
      "execution_count": 1,
      "metadata": {
        "id": "Z89m01W_3aEu"
      },
      "outputs": [
        {
          "data": {
            "text/plain": [
              "'1.22.3'"
            ]
          },
          "execution_count": 1,
          "metadata": {},
          "output_type": "execute_result"
        }
      ],
      "source": [
        "import numpy as np\n",
        "\n",
        "np.__version__"
      ]
    },
    {
      "cell_type": "markdown",
      "metadata": {
        "id": "X9uvI9T73wvL"
      },
      "source": [
        "Numpy를 사용해서 1차원 Array를 선언해봅시다"
      ]
    },
    {
      "cell_type": "code",
      "execution_count": null,
      "metadata": {
        "colab": {
          "base_uri": "https://localhost:8080/"
        },
        "id": "McRhrBs13p-C",
        "outputId": "a8d3101a-411a-4d1c-ff34-01bf3643d539"
      },
      "outputs": [
        {
          "name": "stdout",
          "output_type": "stream",
          "text": [
            "[1 2 3 4 5]\n"
          ]
        }
      ],
      "source": [
        "arr = [1, 2, 3, 4, 5]\n",
        "np_arr = np.array(arr)\n",
        "print(np_arr)"
      ]
    },
    {
      "cell_type": "markdown",
      "metadata": {
        "id": "Ov0c8YOs6EUa"
      },
      "source": [
        "선언한 Array의 Rank, Shape, Size를 출력해봅시다"
      ]
    },
    {
      "cell_type": "code",
      "execution_count": null,
      "metadata": {
        "colab": {
          "base_uri": "https://localhost:8080/"
        },
        "id": "-KCimN_q3-uc",
        "outputId": "c843725b-a2c1-4db2-bd52-2f7aaa61db49"
      },
      "outputs": [
        {
          "name": "stdout",
          "output_type": "stream",
          "text": [
            "1\n",
            "(5,)\n",
            "5\n"
          ]
        }
      ],
      "source": [
        "print(np_arr.)\n",
        "print(np_arr.)\n",
        "print(np_arr.)"
      ]
    },
    {
      "cell_type": "markdown",
      "metadata": {
        "id": "TTZqNKaBV7pe"
      },
      "source": [
        "슬라이싱을 활용해서 2,3번째 element를 출력해봅시다."
      ]
    },
    {
      "cell_type": "code",
      "execution_count": null,
      "metadata": {
        "colab": {
          "base_uri": "https://localhost:8080/"
        },
        "id": "AbHShKMRVtYp",
        "outputId": "8c5ac858-4125-4ebe-b1e0-88bdc63e25a0"
      },
      "outputs": [
        {
          "name": "stdout",
          "output_type": "stream",
          "text": [
            "[3 4]\n"
          ]
        }
      ],
      "source": [
        "print(np_arr[])"
      ]
    },
    {
      "cell_type": "markdown",
      "metadata": {
        "id": "eulB0MyGWMMF"
      },
      "source": [
        "슬라이싱은 python과 동일한 규칙을 따릅니다. [start:stop:step]\n",
        "이번에는 슬라이싱을 활용하여 0, 2 4번째 element를 출력해봅시다."
      ]
    },
    {
      "cell_type": "code",
      "execution_count": null,
      "metadata": {
        "colab": {
          "base_uri": "https://localhost:8080/"
        },
        "id": "ZODEkiBsWGlr",
        "outputId": "99522f08-9a98-4f0a-8834-d3b99f24c306"
      },
      "outputs": [
        {
          "name": "stdout",
          "output_type": "stream",
          "text": [
            "[1 3 5]\n"
          ]
        }
      ],
      "source": [
        "print(np_arr[])"
      ]
    },
    {
      "cell_type": "markdown",
      "metadata": {
        "id": "5deX7ao8VjMr"
      },
      "source": [
        "이번엔 array() 함수를 사용하여 2차원 배열을 선언해봅시다."
      ]
    },
    {
      "cell_type": "code",
      "execution_count": null,
      "metadata": {
        "colab": {
          "base_uri": "https://localhost:8080/"
        },
        "id": "62wxAvplWe8-",
        "outputId": "6c7b5e6e-3896-4604-a812-b5f79b985fd0"
      },
      "outputs": [
        {
          "name": "stdout",
          "output_type": "stream",
          "text": [
            "[[1 4 2]\n",
            " [7 5 3]]\n"
          ]
        }
      ],
      "source": [
        "import numpy as np\n",
        "np_2d_arr = np.array([[1, 4, 2], [7, 5, 3]])\n",
        "print(np_2d_arr)"
      ]
    },
    {
      "cell_type": "markdown",
      "metadata": {
        "id": "yOlUi_H4V1tF"
      },
      "source": [
        "선언한 2차원 Array의 Rank, Shape, Size를 출력해봅시다"
      ]
    },
    {
      "cell_type": "code",
      "execution_count": null,
      "metadata": {
        "colab": {
          "base_uri": "https://localhost:8080/"
        },
        "id": "J1wNcsJuVxlW",
        "outputId": "6cb1fb21-22d1-489b-9c38-1b5b49e64fbd"
      },
      "outputs": [
        {
          "name": "stdout",
          "output_type": "stream",
          "text": [
            "2\n",
            "(2, 3)\n",
            "6\n"
          ]
        }
      ],
      "source": [
        "print(np_2d_arr.)\n",
        "print(np_2d_arr.)\n",
        "print(np_2d_arr.)"
      ]
    },
    {
      "cell_type": "markdown",
      "metadata": {
        "id": "1Ylk59XgWsR0"
      },
      "source": [
        "슬라이싱을 활용하여 아래의 색칠된 영역을 선택해보세요\n",
        "\n",
        "![제목 없음.png](data:image/png;base64,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)"
      ]
    },
    {
      "cell_type": "code",
      "execution_count": null,
      "metadata": {
        "colab": {
          "base_uri": "https://localhost:8080/"
        },
        "id": "rt9sdhnDV_dX",
        "outputId": "1009013f-ec60-4730-dea0-3f5c477d334f"
      },
      "outputs": [
        {
          "name": "stdout",
          "output_type": "stream",
          "text": [
            "[5]\n",
            "[7 5]\n",
            "[[2]\n",
            " [3]]\n",
            "[[1 4]\n",
            " [7 5]]\n"
          ]
        }
      ],
      "source": [
        "print(np_2d_arr[])\n",
        "print(np_2d_arr[])\n",
        "print(np_2d_arr[])\n",
        "print(np_2d_arr[])"
      ]
    },
    {
      "cell_type": "markdown",
      "metadata": {
        "id": "alWXcmGJYspN"
      },
      "source": [
        "array() 함수를 사용하여 아래와 같은 3차원 array를 선언해봅시다"
      ]
    },
    {
      "cell_type": "code",
      "execution_count": null,
      "metadata": {
        "colab": {
          "base_uri": "https://localhost:8080/"
        },
        "id": "loQfvZqdXyze",
        "outputId": "0f3647e8-9c80-4b78-8a79-0bf24076eaab"
      },
      "outputs": [
        {
          "name": "stdout",
          "output_type": "stream",
          "text": [
            "[[[1 4 2]\n",
            "  [7 5 3]]\n",
            "\n",
            " [[0 4 8]\n",
            "  [6 9 1]]\n",
            "\n",
            " [[7 6 9]\n",
            "  [4 0 8]]]\n"
          ]
        }
      ],
      "source": [
        "nums = np.array([[[1,4,2], [7,5,3]],\n",
        "                 [[0,4,8],[6,9,1]],\n",
        "                 [[7,6,9],[4,0,8]]])\n",
        "print(nums)"
      ]
    },
    {
      "cell_type": "markdown",
      "metadata": {
        "id": "vuH7OBiIZWj0"
      },
      "source": [
        "슬라이싱과 copy() 결과의 차이를 아래의 코드를 통해 살펴봅시다"
      ]
    },
    {
      "cell_type": "code",
      "execution_count": null,
      "metadata": {
        "colab": {
          "base_uri": "https://localhost:8080/"
        },
        "id": "YEclq_onYp3d",
        "outputId": "48b5e1dc-43c1-499c-ba2e-5f6403d763f8"
      },
      "outputs": [
        {
          "name": "stdout",
          "output_type": "stream",
          "text": [
            "[4 2 5]\n",
            "[4 2 5]\n",
            "[ 4 10  5]\n",
            "[4 2 5]\n"
          ]
        }
      ],
      "source": [
        "nums = np.array([1, 4, 2, 5, 3])\n",
        "\n",
        "ref = nums[1:4]\n",
        "cpy = nums[1:4].copy()\n",
        "\n",
        "print(ref)\n",
        "print(cpy)\n",
        "\n",
        "nums[2] = 10\n",
        "\n",
        "print(ref)\n",
        "print(cpy)"
      ]
    },
    {
      "cell_type": "markdown",
      "metadata": {
        "id": "e2KQgLujaiJT"
      },
      "source": [
        "np.zeros(), np.ones(), np.full()을 사용하여 배열을 선언해봅시다"
      ]
    },
    {
      "cell_type": "code",
      "execution_count": null,
      "metadata": {
        "colab": {
          "base_uri": "https://localhost:8080/"
        },
        "id": "RRpx9RW1ZsL2",
        "outputId": "3de3193a-7d04-47df-ab85-4bfbba5e101a"
      },
      "outputs": [
        {
          "name": "stdout",
          "output_type": "stream",
          "text": [
            "[[0. 0. 0.]\n",
            " [0. 0. 0.]\n",
            " [0. 0. 0.]]\n",
            "[[1. 1. 1.]\n",
            " [1. 1. 1.]]\n",
            "[[7 7]\n",
            " [7 7]]\n"
          ]
        }
      ],
      "source": [
        "print(np.)\n",
        "print(np.)\n",
        "print(np.)"
      ]
    },
    {
      "cell_type": "markdown",
      "metadata": {
        "id": "XfTjvIUjdBel"
      },
      "source": [
        "np.random.random(), np.random.normal(), np.random.randint()를 사용하여 배열을 선언해봅시다"
      ]
    },
    {
      "cell_type": "code",
      "execution_count": null,
      "metadata": {
        "colab": {
          "base_uri": "https://localhost:8080/"
        },
        "id": "nBsGhK37cIbU",
        "outputId": "b52058c2-1c39-466b-b495-34dc3cd9242e"
      },
      "outputs": [
        {
          "name": "stdout",
          "output_type": "stream",
          "text": [
            "[[0.30295315 0.77297711]\n",
            " [0.57720399 0.38309002]]\n",
            "[1.77974208 0.57703419]\n",
            "[[4 2]\n",
            " [4 1]]\n"
          ]
        }
      ],
      "source": [
        "print(np.random.)\n",
        "print(np.random.)\n",
        "print(np.random.)"
      ]
    },
    {
      "cell_type": "markdown",
      "metadata": {
        "id": "Rrz3LEI3cAmt"
      },
      "source": [
        "np.arange()를 사용하여 배열을 선언해봅시다"
      ]
    },
    {
      "cell_type": "code",
      "execution_count": null,
      "metadata": {
        "colab": {
          "base_uri": "https://localhost:8080/"
        },
        "id": "lo4HvtSpaw-d",
        "outputId": "dcbf61ac-4969-408a-b4e1-4a2d951664b4"
      },
      "outputs": [
        {
          "name": "stdout",
          "output_type": "stream",
          "text": [
            "[0.4 0.5 0.6 0.7 0.8 0.9 1. ]\n"
          ]
        }
      ],
      "source": [
        "print(np.arange())"
      ]
    },
    {
      "cell_type": "markdown",
      "metadata": {
        "id": "DH8nTwVhfIPf"
      },
      "source": [
        "np.linspace()를 사용하여 어떻게 배열이 생성되는지 아래의 코드를 통해 살펴봅시다 "
      ]
    },
    {
      "cell_type": "code",
      "execution_count": null,
      "metadata": {
        "colab": {
          "base_uri": "https://localhost:8080/"
        },
        "id": "GES9boyrdLhy",
        "outputId": "dbdc730c-9713-47fc-82c7-d6b50ec953a3"
      },
      "outputs": [
        {
          "name": "stdout",
          "output_type": "stream",
          "text": [
            "[0.  0.2 0.4 0.6 0.8]\n"
          ]
        }
      ],
      "source": [
        "print(np.linspace(0, 1, num=5, endpoint=False))"
      ]
    },
    {
      "cell_type": "code",
      "execution_count": null,
      "metadata": {
        "colab": {
          "base_uri": "https://localhost:8080/"
        },
        "id": "JiSh7234fZG4",
        "outputId": "ed369d3d-89d8-4330-aa8f-3a6ae2acd79b"
      },
      "outputs": [
        {
          "name": "stdout",
          "output_type": "stream",
          "text": [
            "[0.   0.25 0.5  0.75 1.  ]\n"
          ]
        }
      ],
      "source": [
        "print(np.linspace(0, 1, num=5, endpoint=True))"
      ]
    },
    {
      "cell_type": "code",
      "execution_count": null,
      "metadata": {
        "colab": {
          "base_uri": "https://localhost:8080/"
        },
        "id": "soQITSPvfauh",
        "outputId": "e2edd21e-5cf6-48d4-faf7-e36f7d5b8fd7"
      },
      "outputs": [
        {
          "name": "stdout",
          "output_type": "stream",
          "text": [
            "(array([0. , 0.2, 0.4, 0.6, 0.8]), 0.2)\n"
          ]
        }
      ],
      "source": [
        "print(np.linspace(0, 1, num=5, endpoint=False, retstep=True))"
      ]
    },
    {
      "cell_type": "markdown",
      "metadata": {
        "id": "1Fl-Rbvo7hFo"
      },
      "source": [
        "np.identity()와 np.eye()를 사용하여 단위행렬을 생성하고 움직여봅시다"
      ]
    },
    {
      "cell_type": "code",
      "execution_count": null,
      "metadata": {
        "colab": {
          "base_uri": "https://localhost:8080/"
        },
        "id": "oumImj1YfdFB",
        "outputId": "565d3fda-671e-46d8-ae1e-56719790fda3"
      },
      "outputs": [
        {
          "name": "stdout",
          "output_type": "stream",
          "text": [
            "[[1. 0. 0.]\n",
            " [0. 1. 0.]\n",
            " [0. 0. 1.]]\n",
            "[[0. 0. 0.]\n",
            " [0. 0. 0.]\n",
            " [1. 0. 0.]]\n"
          ]
        }
      ],
      "source": [
        "print(np.)\n",
        "print(np.)"
      ]
    },
    {
      "cell_type": "markdown",
      "metadata": {
        "id": "BxppoeFT8pEw"
      },
      "source": [
        "(1,8) 모양의 numpy 배열을 생성하고 reshape를 사용하여 (2,2,2)로 변형해봅시다"
      ]
    },
    {
      "cell_type": "code",
      "execution_count": null,
      "metadata": {
        "colab": {
          "base_uri": "https://localhost:8080/"
        },
        "id": "FLD8ArHR7uiw",
        "outputId": "4cdef4c0-dd60-484c-c9a3-5996830f4250"
      },
      "outputs": [
        {
          "name": "stdout",
          "output_type": "stream",
          "text": [
            "[[[1 2]\n",
            "  [3 4]]\n",
            "\n",
            " [[5 6]\n",
            "  [7 8]]]\n"
          ]
        }
      ],
      "source": [
        "nums = np.array([1, 2, 3, 4, 5, 6, 7, 8])\n",
        "print(nums.)"
      ]
    },
    {
      "cell_type": "markdown",
      "metadata": {
        "id": "GbV64ENv9gYJ"
      },
      "source": [
        "(2, 4) numpy 배열을 생성하고 Transpose를 사용해봅시다 "
      ]
    },
    {
      "cell_type": "code",
      "execution_count": 2,
      "metadata": {
        "colab": {
          "base_uri": "https://localhost:8080/"
        },
        "id": "otfKEdpc86Rn",
        "outputId": "bc916417-2255-4bf3-8f41-0921906ecc4e"
      },
      "outputs": [
        {
          "name": "stdout",
          "output_type": "stream",
          "text": [
            "[[1 5]\n",
            " [2 6]\n",
            " [3 7]\n",
            " [4 8]]\n"
          ]
        }
      ],
      "source": [
        "nums = np.array([[1, 2, 3, 4], [5, 6, 7, 8]])\n",
        "print(nums.T)"
      ]
    },
    {
      "cell_type": "markdown",
      "metadata": {
        "id": "5HwnXzPA-xt1"
      },
      "source": [
        "transpose() 함수와 swapaxes()함수를 사용하여 위와 동일한 결과를 출력해봅시다"
      ]
    },
    {
      "cell_type": "code",
      "execution_count": 6,
      "metadata": {
        "colab": {
          "base_uri": "https://localhost:8080/"
        },
        "id": "Bf4u_jtI9vpG",
        "outputId": "8cbac8df-5086-4944-8dce-16620750982f"
      },
      "outputs": [
        {
          "name": "stdout",
          "output_type": "stream",
          "text": [
            "[[1 5]\n",
            " [2 6]\n",
            " [3 7]\n",
            " [4 8]]\n",
            "[[1 5]\n",
            " [2 6]\n",
            " [3 7]\n",
            " [4 8]]\n"
          ]
        }
      ],
      "source": [
        "print(nums.transpose())\n",
        "print(nums.swapaxes(0,1))"
      ]
    },
    {
      "cell_type": "markdown",
      "metadata": {
        "id": "ODSpsxBO_99r"
      },
      "source": [
        "concatenate() 함수를 사용하여 아래와 같은 배열을 만들어 봅시다\n",
        "![제목 없음.png](data:image/png;base64,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)"
      ]
    },
    {
      "cell_type": "code",
      "execution_count": 7,
      "metadata": {
        "colab": {
          "base_uri": "https://localhost:8080/"
        },
        "id": "UgMCxTnG_BSc",
        "outputId": "bf989650-31d6-440a-982e-ef993f87974c"
      },
      "outputs": [
        {
          "name": "stdout",
          "output_type": "stream",
          "text": [
            "[1 2 3 3 2 1]\n"
          ]
        }
      ],
      "source": [
        "x = np.array([1, 2, 3])\n",
        "y = np.array([3, 2, 1])\n",
        "print(np.concatenate((x, y)))"
      ]
    },
    {
      "cell_type": "markdown",
      "metadata": {
        "id": "av4c1A4DBQe6"
      },
      "source": [
        "concatenate() 함수를 사용하여 아래와 같은 배열을 만드려면 어떻게 해야할지 코드를 짜봅시다\n",
        "![제목 없음.png](data:image/png;base64,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)"
      ]
    },
    {
      "cell_type": "code",
      "execution_count": 10,
      "metadata": {
        "colab": {
          "base_uri": "https://localhost:8080/"
        },
        "id": "PU8a9nQMARXt",
        "outputId": "2a616940-99cc-485a-940e-3b3434380efe"
      },
      "outputs": [
        {
          "name": "stdout",
          "output_type": "stream",
          "text": [
            "[[1 2 3 1 2 3]\n",
            " [4 5 6 4 5 6]]\n"
          ]
        }
      ],
      "source": [
        "grid = np.array([[1, 2, 3], [4, 5, 6]])\n",
        "print(np.concatenate((grid, grid), axis=1))"
      ]
    },
    {
      "cell_type": "markdown",
      "metadata": {
        "id": "BJ0INl3IEZ6P"
      },
      "source": [
        "2차원 배열을 선언하고 split() 함수를 사용하여 axis = 0 방향으로 배열을 [2,4] 모양으로 분할해봅시다"
      ]
    },
    {
      "cell_type": "code",
      "execution_count": 11,
      "metadata": {
        "colab": {
          "base_uri": "https://localhost:8080/"
        },
        "id": "cWrHhvtXBjO1",
        "outputId": "fd98d57d-f0b6-4cda-aac1-2a275f9778ab"
      },
      "outputs": [
        {
          "name": "stdout",
          "output_type": "stream",
          "text": [
            "[[ 0  1  2  3]\n",
            " [ 4  5  6  7]\n",
            " [ 8  9 10 11]\n",
            " [12 13 14 15]]\n",
            "[[0 1 2 3]\n",
            " [4 5 6 7]]\n",
            "[[ 8  9 10 11]\n",
            " [12 13 14 15]]\n"
          ]
        }
      ],
      "source": [
        "grid = np.arange(16).reshape((4, 4))\n",
        "upper, lower = np.split(grid, [2])\n",
        "print(grid)\n",
        "print(upper)\n",
        "print(lower)"
      ]
    },
    {
      "cell_type": "code",
      "execution_count": null,
      "metadata": {
        "colab": {
          "base_uri": "https://localhost:8080/"
        },
        "id": "scir0bfHK29N",
        "outputId": "6d34492b-0a37-4e0d-ea26-c45c47c5bed4"
      },
      "outputs": [
        {
          "name": "stdout",
          "output_type": "stream",
          "text": [
            "[array([[0, 1, 2, 3],\n",
            "       [4, 5, 6, 7]]), array([[ 8,  9, 10, 11],\n",
            "       [12, 13, 14, 15]])]\n"
          ]
        }
      ],
      "source": [
        "print(np.split(grid, [2], axis=0))"
      ]
    },
    {
      "cell_type": "markdown",
      "metadata": {
        "id": "vx3Tm_TCKdp7"
      },
      "source": [
        "split() 함수를 사용하여 axis = 1 방향으로 배열을 [4,2] 모양으로 분할해봅시다"
      ]
    },
    {
      "cell_type": "code",
      "execution_count": null,
      "metadata": {
        "colab": {
          "base_uri": "https://localhost:8080/"
        },
        "id": "rqd_FpuhKSsz",
        "outputId": "1bbd6eef-2730-4331-8b5a-eeb0a27cdfd4"
      },
      "outputs": [
        {
          "name": "stdout",
          "output_type": "stream",
          "text": [
            "[array([[ 0,  1],\n",
            "       [ 4,  5],\n",
            "       [ 8,  9],\n",
            "       [12, 13]]), array([[ 2,  3],\n",
            "       [ 6,  7],\n",
            "       [10, 11],\n",
            "       [14, 15]])]\n"
          ]
        }
      ],
      "source": [
        "print(np.split())"
      ]
    },
    {
      "cell_type": "markdown",
      "metadata": {
        "id": "aChNstcoO6kA"
      },
      "source": [
        "배열을 하나 선언하고 배열에 있는 숫자를 섭씨로 바꿔봅시다\n",
        "\n",
        "![제목 없음.png](data:image/png;base64,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)"
      ]
    },
    {
      "cell_type": "markdown",
      "metadata": {
        "id": "Ppa4LzfyRJLf"
      },
      "source": [
        "* 참고) numpy 배열에 새로운 element를 넣을때는 python과 동일하게 append를 사용합니다\n",
        "\n",
        "* ex) arr = np.append(arr, element or array)"
      ]
    },
    {
      "cell_type": "code",
      "execution_count": 13,
      "metadata": {
        "colab": {
          "base_uri": "https://localhost:8080/"
        },
        "id": "FhvHFMWnO5la",
        "outputId": "da6a7abd-b800-48fd-d262-0fee1ff43b87"
      },
      "outputs": [
        {
          "name": "stdout",
          "output_type": "stream",
          "text": [
            "[37.77777778 26.66666667 21.11111111 32.22222222 43.33333333]\n"
          ]
        }
      ],
      "source": [
        "arr_f = np.array([100, 80, 70, 90, 110])\n",
        "arr_c = np.array([])\n",
        "\n",
        "for i in arr_f:\n",
        "    arr_c = np.append(arr_c, (i-32)*5/9)\n",
        "  \n",
        "\n",
        "print(arr_c)"
      ]
    },
    {
      "cell_type": "markdown",
      "metadata": {
        "id": "9kqChW3TSsgQ"
      },
      "source": [
        "벡터화 연산을 사용하여 위와 동일한 결과를 내는 코드를 작성해 봅시다"
      ]
    },
    {
      "cell_type": "code",
      "execution_count": null,
      "metadata": {
        "colab": {
          "base_uri": "https://localhost:8080/"
        },
        "id": "Ulajc8SSSCL1",
        "outputId": "1c2d7433-ca0e-4227-d905-6afdfe24a72b"
      },
      "outputs": [
        {
          "name": "stdout",
          "output_type": "stream",
          "text": [
            "[37.77777778 26.66666667 21.11111111 32.22222222 43.33333333]\n"
          ]
        }
      ],
      "source": [
        "print()"
      ]
    },
    {
      "cell_type": "markdown",
      "metadata": {
        "id": "BvL-iDyYV2d9"
      },
      "source": [
        "아래의 코드를 실행해보면서 broadcasting에 대해 이해해봅시다"
      ]
    },
    {
      "cell_type": "code",
      "execution_count": null,
      "metadata": {
        "colab": {
          "base_uri": "https://localhost:8080/"
        },
        "id": "bxQknn_xSJ4c",
        "outputId": "6550d4bf-3249-47d4-8204-f3c9509fb573"
      },
      "outputs": [
        {
          "name": "stdout",
          "output_type": "stream",
          "text": [
            "[[1. 0. 0. 0.]\n",
            " [0. 1. 0. 0.]\n",
            " [0. 0. 1. 0.]\n",
            " [0. 0. 0. 1.]]\n"
          ]
        }
      ],
      "source": [
        "noise = np.eye(4) + 0.01 * np.ones((4,))\n",
        "\n",
        "print(np.eye(4))"
      ]
    },
    {
      "cell_type": "code",
      "execution_count": null,
      "metadata": {
        "colab": {
          "base_uri": "https://localhost:8080/"
        },
        "id": "_I771BaaWGXz",
        "outputId": "768cd269-962e-4096-dfeb-973abde6076d"
      },
      "outputs": [
        {
          "name": "stdout",
          "output_type": "stream",
          "text": [
            "[1. 1. 1. 1.]\n"
          ]
        }
      ],
      "source": [
        "print(np.ones((4,)))"
      ]
    },
    {
      "cell_type": "code",
      "execution_count": null,
      "metadata": {
        "colab": {
          "base_uri": "https://localhost:8080/"
        },
        "id": "hhaq0RukWMv-",
        "outputId": "f52db1a0-1a1f-4eae-d58c-c25f06a4ca14"
      },
      "outputs": [
        {
          "name": "stdout",
          "output_type": "stream",
          "text": [
            "[[1.01 0.01 0.01 0.01]\n",
            " [0.01 1.01 0.01 0.01]\n",
            " [0.01 0.01 1.01 0.01]\n",
            " [0.01 0.01 0.01 1.01]]\n"
          ]
        }
      ],
      "source": [
        "print(noise)"
      ]
    },
    {
      "cell_type": "markdown",
      "metadata": {
        "id": "p3Mycl-1dB8f"
      },
      "source": [
        "아래와 같은 배열을 선언하고 평균을 구해보세요\n",
        "\n",
        "![제목 없음.png](data:image/png;base64,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)"
      ]
    },
    {
      "cell_type": "code",
      "execution_count": null,
      "metadata": {
        "colab": {
          "base_uri": "https://localhost:8080/"
        },
        "id": "Sf1M-mKAWNQE",
        "outputId": "30d096c2-b4c6-4a6c-a40f-ef760a3d370d"
      },
      "outputs": [
        {
          "name": "stdout",
          "output_type": "stream",
          "text": [
            "3.0\n"
          ]
        }
      ],
      "source": [
        "grid = np.array([[1, 2, 3], [4, 6, 2]])\n",
        "print(np.mean(grid))"
      ]
    },
    {
      "cell_type": "markdown",
      "metadata": {
        "id": "qnLMBkg9dpZT"
      },
      "source": [
        "mean() 함수를 사용하여 각 행, 열별 평균을 구해보세요"
      ]
    },
    {
      "cell_type": "code",
      "execution_count": null,
      "metadata": {
        "colab": {
          "base_uri": "https://localhost:8080/"
        },
        "id": "Gy8i6gHoZFmf",
        "outputId": "40f58f84-40e7-4376-a978-fee2716a6a27"
      },
      "outputs": [
        {
          "name": "stdout",
          "output_type": "stream",
          "text": [
            "[2.5 4.  2.5]\n",
            "[2. 4.]\n"
          ]
        }
      ],
      "source": [
        "print(np.mean())\n",
        "print(np.mean())"
      ]
    },
    {
      "cell_type": "markdown",
      "metadata": {
        "id": "18mfsL3qf5tM"
      },
      "source": [
        "Random한 값이 들어있는 (3, 4) 배열을 선언하고 6보다 작은 값이 몇 개인지 찾아봅시다"
      ]
    },
    {
      "cell_type": "code",
      "execution_count": null,
      "metadata": {
        "colab": {
          "base_uri": "https://localhost:8080/"
        },
        "id": "fuOCbFjjdyaT",
        "outputId": "4cf2cab3-8c02-4d97-d2d1-1db985589cec"
      },
      "outputs": [
        {
          "name": "stdout",
          "output_type": "stream",
          "text": [
            "[[4 0 6 0]\n",
            " [2 9 8 6]\n",
            " [5 0 2 5]]\n",
            "[3 2 1 2]\n"
          ]
        }
      ],
      "source": [
        "x= np.random.randint(10, size=(3,4))\n",
        "print(x)\n",
        "print(np.sum(x < 6))"
      ]
    },
    {
      "cell_type": "markdown",
      "metadata": {
        "id": "-jSQ8jrbg6Qg"
      },
      "source": [
        "각 행, 열별로 6보다 작은 값은 몇 개가 있는지 구해보세요"
      ]
    },
    {
      "cell_type": "code",
      "execution_count": null,
      "metadata": {
        "colab": {
          "base_uri": "https://localhost:8080/"
        },
        "id": "buBEfyEJgNJz",
        "outputId": "92193fc3-a17d-48cd-ef53-50c55f677ca9"
      },
      "outputs": [
        {
          "name": "stdout",
          "output_type": "stream",
          "text": [
            "[3 2 1 2]\n",
            "[3 1 4]\n"
          ]
        }
      ],
      "source": [
        "print(np.sum())\n",
        "print(np.sum())"
      ]
    },
    {
      "cell_type": "markdown",
      "metadata": {
        "id": "UON5nEHHiMHZ"
      },
      "source": [
        "bitwise 연산자를 사용하여 3 이하 또는 6 이상인 값이 몇개인지 찾아봅시다"
      ]
    },
    {
      "cell_type": "code",
      "execution_count": null,
      "metadata": {
        "colab": {
          "base_uri": "https://localhost:8080/"
        },
        "id": "xC4IRz1bhBfL",
        "outputId": "5cf2647d-428f-483d-a1b0-488bd4ff2d60"
      },
      "outputs": [
        {
          "name": "stdout",
          "output_type": "stream",
          "text": [
            "9\n"
          ]
        }
      ],
      "source": [
        "print(np.sum())"
      ]
    },
    {
      "cell_type": "markdown",
      "metadata": {
        "id": "m8mkmyzcjCwj"
      },
      "source": [
        "Boolean array와 bitwise 연산자를 사용하여 3 이하 또는 6 이상인 값을 출력해봅시다"
      ]
    },
    {
      "cell_type": "code",
      "execution_count": null,
      "metadata": {
        "colab": {
          "base_uri": "https://localhost:8080/"
        },
        "id": "TKBzlURaikIB",
        "outputId": "30919753-adfe-4319-929e-4b1313885076"
      },
      "outputs": [
        {
          "name": "stdout",
          "output_type": "stream",
          "text": [
            "[0 6 0 2 9 8 6 0 2]\n"
          ]
        }
      ],
      "source": [
        "print(x[])"
      ]
    }
  ],
  "metadata": {
    "colab": {
      "name": "Numpy_lecture_students.ipynb",
      "provenance": []
    },
    "interpreter": {
      "hash": "6f9b4e903e38bfd606aa85746352f0c68a834a97143e8a5ff660a0ae957bcf1b"
    },
    "kernelspec": {
      "display_name": "Python 3.10.4 ('2022_AI_expert-VdvU_stD')",
      "language": "python",
      "name": "python3"
    },
    "language_info": {
      "codemirror_mode": {
        "name": "ipython",
        "version": 3
      },
      "file_extension": ".py",
      "mimetype": "text/x-python",
      "name": "python",
      "nbconvert_exporter": "python",
      "pygments_lexer": "ipython3",
      "version": "3.10.4"
    }
  },
  "nbformat": 4,
  "nbformat_minor": 0
}
