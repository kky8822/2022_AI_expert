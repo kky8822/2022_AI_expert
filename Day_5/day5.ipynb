{
 "cells": [
  {
   "cell_type": "code",
   "execution_count": 4,
   "metadata": {},
   "outputs": [
    {
     "data": {
      "text/plain": [
       "'1.11.0+cu113'"
      ]
     },
     "execution_count": 4,
     "metadata": {},
     "output_type": "execute_result"
    }
   ],
   "source": [
    "import torch\n",
    "import inspect\n",
    "\n",
    "torch.__version__"
   ]
  },
  {
   "cell_type": "markdown",
   "metadata": {},
   "source": [
    "## Practice"
   ]
  },
  {
   "cell_type": "markdown",
   "metadata": {},
   "source": [
    "## Mnist model prediction"
   ]
  },
  {
   "cell_type": "code",
   "execution_count": 1,
   "metadata": {},
   "outputs": [
    {
     "name": "stdout",
     "output_type": "stream",
     "text": [
      "torch.Size([9999, 1, 28, 28])\n",
      "torch.Size([9999])\n",
      "Test: Acc 96.42964296429643\n"
     ]
    },
    {
     "data": {
      "image/png": "[encoded data removed]",
      "text/plain": [
       "<Figure size 432x288 with 6 Axes>"
      ]
     },
     "metadata": {
      "needs_background": "light"
     },
     "output_type": "display_data"
    }
   ],
   "source": [
    "import csv\n",
    "import numpy as np\n",
    "import pandas as pd\n",
    "import torch\n",
    "import torch.nn as nn\n",
    "from torch.utils.data import Dataset, DataLoader\n",
    "import matplotlib.pyplot as plt\n",
    "# import matplotlib.pyplot as plt\n",
    "\n",
    "\n",
    "\n",
    "class DigitDataset(Dataset):\n",
    "    def __init__(self, x, y=None):\n",
    "        super(DigitDataset).__init__()\n",
    "        self.x = x\n",
    "        self.y = y\n",
    "    \n",
    "    def __getitem__(self, idx):\n",
    "        if self.y == None:\n",
    "            return self.x[idx]\n",
    "        return self.x[idx], self.y[idx]\n",
    "    \n",
    "    def __len__(self):\n",
    "        return len(self.x)\n",
    "\n",
    "class Net(nn.Module):\n",
    "    def __init__(self):\n",
    "        super(Net, self).__init__()\n",
    "        print(self)\n",
    "\n",
    "        self.model = nn.Sequential(\n",
    "            nn.Flatten(),\n",
    "            nn.Linear(784,256),\n",
    "            nn.ReLU(),\n",
    "            nn.Linear(256,100),\n",
    "            nn.ReLU(),\n",
    "            nn.Linear(100,10)\n",
    "        )\n",
    "\n",
    "    def forward(self,x):\n",
    "        x = self.model(x)\n",
    "        x = torch.softmax(x, dim=-1)\n",
    "        return x\n",
    "\n",
    "\n",
    "### Prediction w/ mnist_net.pth\n",
    "test_data_path = './mnist_test.csv'\n",
    "saved_model_path = \"./mnist_net.pth\"\n",
    "# device = 'cuda' if torch.cuda.is_available() else 'cpu'\n",
    "device = 'cpu'\n",
    "\n",
    "df_test = pd.read_csv(test_data_path)\n",
    "\n",
    "_xx = torch.Tensor(df_test.iloc[:,1:].values).reshape(len(df_test), 28, 28)\n",
    "_xx = _xx.unsqueeze(1) # data strucurize to batch_size, depth, width, height\n",
    "_yy = torch.Tensor(df_test.iloc[:,0].values).type(torch.long)\n",
    "\n",
    "print(_xx.shape)\n",
    "print(_yy.shape)\n",
    "\n",
    "pretranind = torch.load(saved_model_path)\n",
    "pretranind.eval()\n",
    "\n",
    "l = len(df_test)\n",
    "valid_x = _xx\n",
    "valid_y = _yy\n",
    "testset = DigitDataset(valid_x, valid_y)\n",
    "test_dl = DataLoader(testset, batch_size = 250)\n",
    "acc=0\n",
    "\n",
    "for tx, ty in test_dl:\n",
    "    tx = tx.to(device)\n",
    "    ty = ty.to(device)\n",
    "\n",
    "    ty_hat = pretranind(tx)\n",
    "    test_pred = ty_hat.max(dim=1)[1]\n",
    "    acc += (test_pred==ty).sum().item()\n",
    "\n",
    "print(f\"Test: Acc {100*acc/len(df_test)}\")\n",
    "test_x = _xx\n",
    "\n",
    "outputs = pretranind(test_x)\n",
    "_, pred = torch.max(outputs, 1)\n",
    "pred = pred.cuda()\n",
    "\n",
    "for i, img in enumerate(test_x[50:56]):\n",
    "    plt.subplot(2, 3, i+1)\n",
    "    plt.axis('off')\n",
    "    plt.title(f\"Predicted : {pred[50+i]}\")\n",
    "    plt.imshow(img.squeeze(0))\n",
    "\n",
    "\n",
    "\n"
   ]
  }
 ],
 "metadata": {
  "interpreter": {
   "hash": "6f9b4e903e38bfd606aa85746352f0c68a834a97143e8a5ff660a0ae957bcf1b"
  },
  "kernelspec": {
   "display_name": "Python 3.10.4 ('2022_AI_expert-VdvU_stD')",
   "language": "python",
   "name": "python3"
  },
  "language_info": {
   "codemirror_mode": {
    "name": "ipython",
    "version": 3
   },
   "file_extension": ".py",
   "mimetype": "text/x-python",
   "name": "python",
   "nbconvert_exporter": "python",
   "pygments_lexer": "ipython3",
   "version": "3.10.4"
  },
  "orig_nbformat": 4
 },
 "nbformat": 4,
 "nbformat_minor": 2
}
