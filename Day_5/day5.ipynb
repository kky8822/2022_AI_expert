{
 "cells": [
  {
   "cell_type": "code",
   "execution_count": 2,
   "metadata": {},
   "outputs": [
    {
     "data": {
      "text/plain": [
       "'1.11.0+cu113'"
      ]
     },
     "execution_count": 2,
     "metadata": {},
     "output_type": "execute_result"
    }
   ],
   "source": [
    "import torch\n",
    "import inspect\n",
    "\n",
    "torch.__version__"
   ]
  },
  {
   "cell_type": "markdown",
   "metadata": {},
   "source": [
    "## Practice"
   ]
  },
  {
   "cell_type": "markdown",
   "metadata": {},
   "source": [
    "## Mnist model prediction"
   ]
  },
  {
   "cell_type": "code",
   "execution_count": 3,
   "metadata": {},
   "outputs": [
    {
     "name": "stdout",
     "output_type": "stream",
     "text": [
      "tensor([2, 1, 0,  ..., 4, 5, 6])\n",
      "torch.Size([9999, 1, 28, 28])\n",
      "torch.Size([9999])\n",
      "<torch.utils.data.dataloader.DataLoader object at 0x7fcd62718fa0>\n",
      "tensor([2, 1, 0, 4, 1, 4, 9, 5, 9, 0, 6, 9, 0, 1, 5, 9, 7, 3, 4, 9, 6, 6, 5, 4,\n",
      "        0, 7, 4, 0, 1, 3, 1, 3, 4, 7, 2, 7, 1, 2, 1, 1, 7, 4, 2, 3, 5, 1, 2, 4,\n",
      "        4, 6, 3, 5, 5, 6, 0, 4, 1, 9, 5, 7, 8, 9, 3, 7, 4, 6, 4, 3, 0, 7, 0, 2,\n",
      "        9, 1, 7, 3, 2, 9, 7, 7, 6, 2, 7, 8, 4, 7, 3, 6, 1, 3, 6, 9, 3, 1, 4, 1,\n",
      "        7, 6, 9, 6, 0, 5, 4, 9, 9, 2, 1, 9, 4, 8, 7, 3, 9, 7, 4, 4, 4, 9, 2, 5,\n",
      "        4, 7, 6, 7, 9, 0, 5, 8, 5, 6, 6, 5, 7, 8, 1, 0, 1, 6, 4, 6, 7, 3, 1, 7,\n",
      "        1, 8, 2, 0, 2, 9, 9, 5, 5, 1, 5, 6, 0, 3, 4, 4, 6, 5, 4, 6, 5, 4, 5, 1,\n",
      "        4, 4, 7, 2, 3, 2, 7, 1, 8, 1, 8, 1, 8, 5, 0, 8, 9, 2, 5, 0, 1, 1, 1, 0,\n",
      "        9, 0, 3, 1, 6, 4, 2, 3, 6, 1, 1, 1, 3, 9, 5, 2, 9, 4, 5, 9, 3, 9, 0, 3,\n",
      "        6, 5, 5, 7, 2, 2, 7, 1, 2, 8, 4, 1, 7, 3, 3, 8, 8, 7, 9, 2, 2, 4, 1, 5,\n",
      "        9, 8, 7, 2, 3, 0, 4, 4, 2, 4])\n"
     ]
    },
    {
     "ename": "NotImplementedError",
     "evalue": "",
     "output_type": "error",
     "traceback": [
      "\u001b[0;31m---------------------------------------------------------------------------\u001b[0m",
      "\u001b[0;31mNotImplementedError\u001b[0m                       Traceback (most recent call last)",
      "\u001b[1;32m/home/kky8822/2022_AI_expert/Day_5/day5.ipynb Cell 4'\u001b[0m in \u001b[0;36m<cell line: 70>\u001b[0;34m()\u001b[0m\n\u001b[1;32m     <a href='vscode-notebook-cell://wsl%2Bubuntu/home/kky8822/2022_AI_expert/Day_5/day5.ipynb#ch0000003vscode-remote?line=69'>70</a>\u001b[0m \u001b[39mfor\u001b[39;00m tx, ty \u001b[39min\u001b[39;00m test_dl:\n\u001b[1;32m     <a href='vscode-notebook-cell://wsl%2Bubuntu/home/kky8822/2022_AI_expert/Day_5/day5.ipynb#ch0000003vscode-remote?line=70'>71</a>\u001b[0m     \u001b[39m# tx = tx.to(device)\u001b[39;00m\n\u001b[1;32m     <a href='vscode-notebook-cell://wsl%2Bubuntu/home/kky8822/2022_AI_expert/Day_5/day5.ipynb#ch0000003vscode-remote?line=71'>72</a>\u001b[0m     \u001b[39m# ty = ty.to(device)\u001b[39;00m\n\u001b[1;32m     <a href='vscode-notebook-cell://wsl%2Bubuntu/home/kky8822/2022_AI_expert/Day_5/day5.ipynb#ch0000003vscode-remote?line=73'>74</a>\u001b[0m     \u001b[39mprint\u001b[39m(ty)\n\u001b[0;32m---> <a href='vscode-notebook-cell://wsl%2Bubuntu/home/kky8822/2022_AI_expert/Day_5/day5.ipynb#ch0000003vscode-remote?line=75'>76</a>\u001b[0m     ty_hat \u001b[39m=\u001b[39m model(tx)\n\u001b[1;32m     <a href='vscode-notebook-cell://wsl%2Bubuntu/home/kky8822/2022_AI_expert/Day_5/day5.ipynb#ch0000003vscode-remote?line=76'>77</a>\u001b[0m     test_pred \u001b[39m=\u001b[39m ty_hat\u001b[39m.\u001b[39mmax(dim\u001b[39m=\u001b[39m\u001b[39m1\u001b[39m)[\u001b[39m1\u001b[39m]\n\u001b[1;32m     <a href='vscode-notebook-cell://wsl%2Bubuntu/home/kky8822/2022_AI_expert/Day_5/day5.ipynb#ch0000003vscode-remote?line=77'>78</a>\u001b[0m     \u001b[39mprint\u001b[39m(test_pred)\n",
      "File \u001b[0;32m~/.local/share/virtualenvs/2022_AI_expert-VdvU_stD/lib/python3.10/site-packages/torch/nn/modules/module.py:1110\u001b[0m, in \u001b[0;36mModule._call_impl\u001b[0;34m(self, *input, **kwargs)\u001b[0m\n\u001b[1;32m   <a href='file:///home/kky8822/.local/share/virtualenvs/2022_AI_expert-VdvU_stD/lib/python3.10/site-packages/torch/nn/modules/module.py?line=1105'>1106</a>\u001b[0m \u001b[39m# If we don't have any hooks, we want to skip the rest of the logic in\u001b[39;00m\n\u001b[1;32m   <a href='file:///home/kky8822/.local/share/virtualenvs/2022_AI_expert-VdvU_stD/lib/python3.10/site-packages/torch/nn/modules/module.py?line=1106'>1107</a>\u001b[0m \u001b[39m# this function, and just call forward.\u001b[39;00m\n\u001b[1;32m   <a href='file:///home/kky8822/.local/share/virtualenvs/2022_AI_expert-VdvU_stD/lib/python3.10/site-packages/torch/nn/modules/module.py?line=1107'>1108</a>\u001b[0m \u001b[39mif\u001b[39;00m \u001b[39mnot\u001b[39;00m (\u001b[39mself\u001b[39m\u001b[39m.\u001b[39m_backward_hooks \u001b[39mor\u001b[39;00m \u001b[39mself\u001b[39m\u001b[39m.\u001b[39m_forward_hooks \u001b[39mor\u001b[39;00m \u001b[39mself\u001b[39m\u001b[39m.\u001b[39m_forward_pre_hooks \u001b[39mor\u001b[39;00m _global_backward_hooks\n\u001b[1;32m   <a href='file:///home/kky8822/.local/share/virtualenvs/2022_AI_expert-VdvU_stD/lib/python3.10/site-packages/torch/nn/modules/module.py?line=1108'>1109</a>\u001b[0m         \u001b[39mor\u001b[39;00m _global_forward_hooks \u001b[39mor\u001b[39;00m _global_forward_pre_hooks):\n\u001b[0;32m-> <a href='file:///home/kky8822/.local/share/virtualenvs/2022_AI_expert-VdvU_stD/lib/python3.10/site-packages/torch/nn/modules/module.py?line=1109'>1110</a>\u001b[0m     \u001b[39mreturn\u001b[39;00m forward_call(\u001b[39m*\u001b[39;49m\u001b[39minput\u001b[39;49m, \u001b[39m*\u001b[39;49m\u001b[39m*\u001b[39;49mkwargs)\n\u001b[1;32m   <a href='file:///home/kky8822/.local/share/virtualenvs/2022_AI_expert-VdvU_stD/lib/python3.10/site-packages/torch/nn/modules/module.py?line=1110'>1111</a>\u001b[0m \u001b[39m# Do not call functions when jit is used\u001b[39;00m\n\u001b[1;32m   <a href='file:///home/kky8822/.local/share/virtualenvs/2022_AI_expert-VdvU_stD/lib/python3.10/site-packages/torch/nn/modules/module.py?line=1111'>1112</a>\u001b[0m full_backward_hooks, non_full_backward_hooks \u001b[39m=\u001b[39m [], []\n",
      "File \u001b[0;32m~/.local/share/virtualenvs/2022_AI_expert-VdvU_stD/lib/python3.10/site-packages/torch/nn/modules/module.py:201\u001b[0m, in \u001b[0;36m_forward_unimplemented\u001b[0;34m(self, *input)\u001b[0m\n\u001b[1;32m    <a href='file:///home/kky8822/.local/share/virtualenvs/2022_AI_expert-VdvU_stD/lib/python3.10/site-packages/torch/nn/modules/module.py?line=189'>190</a>\u001b[0m \u001b[39mdef\u001b[39;00m \u001b[39m_forward_unimplemented\u001b[39m(\u001b[39mself\u001b[39m, \u001b[39m*\u001b[39m\u001b[39minput\u001b[39m: Any) \u001b[39m-\u001b[39m\u001b[39m>\u001b[39m \u001b[39mNone\u001b[39;00m:\n\u001b[1;32m    <a href='file:///home/kky8822/.local/share/virtualenvs/2022_AI_expert-VdvU_stD/lib/python3.10/site-packages/torch/nn/modules/module.py?line=190'>191</a>\u001b[0m     \u001b[39mr\u001b[39m\u001b[39m\"\"\"Defines the computation performed at every call.\u001b[39;00m\n\u001b[1;32m    <a href='file:///home/kky8822/.local/share/virtualenvs/2022_AI_expert-VdvU_stD/lib/python3.10/site-packages/torch/nn/modules/module.py?line=191'>192</a>\u001b[0m \n\u001b[1;32m    <a href='file:///home/kky8822/.local/share/virtualenvs/2022_AI_expert-VdvU_stD/lib/python3.10/site-packages/torch/nn/modules/module.py?line=192'>193</a>\u001b[0m \u001b[39m    Should be overridden by all subclasses.\u001b[39;00m\n\u001b[0;32m   (...)\u001b[0m\n\u001b[1;32m    <a href='file:///home/kky8822/.local/share/virtualenvs/2022_AI_expert-VdvU_stD/lib/python3.10/site-packages/torch/nn/modules/module.py?line=198'>199</a>\u001b[0m \u001b[39m        registered hooks while the latter silently ignores them.\u001b[39;00m\n\u001b[1;32m    <a href='file:///home/kky8822/.local/share/virtualenvs/2022_AI_expert-VdvU_stD/lib/python3.10/site-packages/torch/nn/modules/module.py?line=199'>200</a>\u001b[0m \u001b[39m    \"\"\"\u001b[39;00m\n\u001b[0;32m--> <a href='file:///home/kky8822/.local/share/virtualenvs/2022_AI_expert-VdvU_stD/lib/python3.10/site-packages/torch/nn/modules/module.py?line=200'>201</a>\u001b[0m     \u001b[39mraise\u001b[39;00m \u001b[39mNotImplementedError\u001b[39;00m\n",
      "\u001b[0;31mNotImplementedError\u001b[0m: "
     ]
    }
   ],
   "source": [
    "import csv\n",
    "import numpy as np\n",
    "import pandas as pd\n",
    "import torch\n",
    "import torch.nn as nn\n",
    "from torch.utils.data import Dataset, DataLoader\n",
    "# import matplotlib.pyplot as plt\n",
    "\n",
    "test_data_path = './mnist_test.csv'\n",
    "\n",
    "df_test = pd.read_csv(test_data_path)\n",
    "\n",
    "batch_size = 250\n",
    "\n",
    "device = 'cuda' if torch.cuda.is_available() else 'cpu'\n",
    "\n",
    "_x = torch.Tensor(df_test.iloc[:,1:].values).reshape(len(df_test),28,28) / 256\n",
    "_x = _x.unsqueeze(1)\n",
    "_y = torch.Tensor(df_test.iloc[:,0].values).type(torch.long)\n",
    "print(_y)\n",
    "\n",
    "print(_x.shape)\n",
    "print(_y.shape)\n",
    "\n",
    "class DigitDataset(Dataset):\n",
    "    def __init__(self, x, y=None):\n",
    "        super(DigitDataset).__init__()\n",
    "        self.x = x\n",
    "        self.y = y\n",
    "    \n",
    "    def __getitem__(self, idx):\n",
    "        if self.y == None:\n",
    "            return self.x[idx]\n",
    "        return self.x[idx], self.y[idx]\n",
    "    \n",
    "    def __len__(self):\n",
    "        return len(self.x)\n",
    "\n",
    "class Net(nn.Module):\n",
    "    def __init__(self):\n",
    "        super(Net, self).__init__()\n",
    "\n",
    "        self.model = nn.Sequential(\n",
    "            nn.Flatten(),\n",
    "            nn.Linear(784,256),\n",
    "            nn.ReLU(),\n",
    "            nn.Linear(256,100),\n",
    "            nn.ReLU(),\n",
    "            nn.Linear(100,10)\n",
    "        )\n",
    "\n",
    "    def forword(self,x):\n",
    "        x = self.model(x)\n",
    "        x = torch.softmax(x, dim=-1)\n",
    "        return x\n",
    "\n",
    "\n",
    "# mnist_net = Net()\n",
    "model = torch.load('./mnist_net.pth')\n",
    "l = len(df_test)\n",
    "valid_x = _x\n",
    "valid_y = _y\n",
    "testset = DigitDataset(valid_x, valid_y)\n",
    "test_dl = DataLoader(testset, batch_size = batch_size)\n",
    "acc=0\n",
    "model.eval()\n",
    "\n",
    "for tx, ty in test_dl:\n",
    "    # tx = tx.to(device)\n",
    "    # ty = ty.to(device)\n",
    "\n",
    "    print(ty)\n",
    "\n",
    "    ty_hat = model(tx)\n",
    "    test_pred = ty_hat.max(dim=1)[1]\n",
    "    print(test_pred)\n",
    "\n",
    "pred_y_raw = model.forword(_x)\n",
    "pred_y = pred_y_raw.argmax(axis=1)\n",
    "\n",
    "print(pred_y_raw[0,:])\n",
    "print(pred_y)\n",
    "print(_y)\n",
    "\n",
    "err_function = nn.MSELoss()\n",
    "acc = err_function(pred_y, _y)\n",
    "print(acc)\n"
   ]
  }
 ],
 "metadata": {
  "interpreter": {
   "hash": "6f9b4e903e38bfd606aa85746352f0c68a834a97143e8a5ff660a0ae957bcf1b"
  },
  "kernelspec": {
   "display_name": "Python 3.10.4 ('2022_AI_expert-VdvU_stD')",
   "language": "python",
   "name": "python3"
  },
  "language_info": {
   "codemirror_mode": {
    "name": "ipython",
    "version": 3
   },
   "file_extension": ".py",
   "mimetype": "text/x-python",
   "name": "python",
   "nbconvert_exporter": "python",
   "pygments_lexer": "ipython3",
   "version": "3.10.4"
  },
  "orig_nbformat": 4
 },
 "nbformat": 4,
 "nbformat_minor": 2
}
