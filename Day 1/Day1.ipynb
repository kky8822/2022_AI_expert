{
 "cells": [
  {
   "cell_type": "markdown",
   "id": "ead60e5f",
   "metadata": {},
   "source": [
    "A가100만원을 빌렸다.한 달 이자가5%로 주어질 때 매 달 갚아야할 비용을 계산하여 출력하라. A가 더 큰 돈을 빌렸다고 할 때도 계산할 수 있도록 한다."
   ]
  },
  {
   "cell_type": "code",
   "execution_count": 1,
   "id": "74606096",
   "metadata": {},
   "outputs": [
    {
     "name": "stdout",
     "output_type": "stream",
     "text": [
      "1000000\n",
      "50000.0\n"
     ]
    }
   ],
   "source": [
    "money = float(input())\n",
    "\n",
    "def interest(moeny, rate):\n",
    "    return money*rate\n",
    "\n",
    "budget = interest(money, 0.05)\n",
    "print(budget)"
   ]
  },
  {
   "cell_type": "markdown",
   "id": "4759d9cc",
   "metadata": {},
   "source": [
    "음료수 자판기700원 짜리 음료수 자판기가 있다. 5000원을 넣은 후input으로 입력받은 만큼의 음료수를 살 수 있다.남은 거스름돈을 조건문을 사용하여1000원, 500원, 100원 갯수로 반환하는 알고리즘을 구성하라.단위가 큰 돈이 먼저 반환되어 아래와 같은output을 내면 된다"
   ]
  },
  {
   "cell_type": "code",
   "execution_count": 2,
   "id": "58eaac47",
   "metadata": {},
   "outputs": [
    {
     "name": "stdout",
     "output_type": "stream",
     "text": [
      "5000\n",
      "price:  4900\n",
      "remains:  100\n",
      "# of cans:  7\n",
      "# of 1000:  0\n",
      "# of 500:  0\n",
      "# of 100:  1\n"
     ]
    }
   ],
   "source": [
    "money = int(input())\n",
    "\n",
    "def get_remains(money):\n",
    "    remains = money%700\n",
    "    price = money - remains\n",
    "    n_cans = money//700\n",
    "    n_1000, r_1000 = remains//1000, remains%1000\n",
    "    n_500, r_500 = r_1000//500, r_1000%500\n",
    "    n_100, r_100 = r_500//100, r_500%100    \n",
    "    return price, remains, n_cans, n_1000, n_500, n_100\n",
    "\n",
    "price, remains, n_cans, n_1000, n_500, n_100 = get_remains(money)\n",
    "\n",
    "print(\"price: \", price)\n",
    "print(\"remains: \", remains)\n",
    "print(\"# of cans: \", n_cans)\n",
    "print(\"# of 1000: \", n_1000)\n",
    "print(\"# of 500: \", n_500)\n",
    "print(\"# of 100: \", n_100)\n"
   ]
  },
  {
   "cell_type": "markdown",
   "id": "1fa2fa55",
   "metadata": {},
   "source": [
    "두 날짜의 월 일을 입력받는다.두 날짜 사이에 흐른 일 수를 구한다.즉,연속된 날짜를 입력할 경우1을 출력한다.두번째 입력하는날짜가 더 나중이며\n",
    ",불가능한 날짜를 입력할 때의 예외처리는 생략한다.추가적으로,해당년도가 윤년인지 아닌지 입력을 받는다.윤년이면, 2월에 총29일이 있는걸 감안해야 한다."
   ]
  },
  {
   "cell_type": "code",
   "execution_count": 3,
   "id": "ad68e64f",
   "metadata": {},
   "outputs": [
    {
     "name": "stdout",
     "output_type": "stream",
     "text": [
      "True\n",
      "1\n",
      "4\n",
      "4\n",
      "2\n",
      "day1: 1월 4일 ~ day2: 4월 2일, 윤년: True\n",
      "4 93\n",
      "89\n"
     ]
    }
   ],
   "source": [
    "is_y_year=True if input() == \"True\" else False\n",
    "day1_month = int(input())\n",
    "day1_day = int(input())\n",
    "day2_month = int(input())\n",
    "day2_day = int(input())\n",
    "\n",
    "def month_to_days(month, is_y_year):\n",
    "    if is_y_year:\n",
    "        if month in [1,3,5,7,8,10,12]:\n",
    "            return 31\n",
    "        elif month == 2:\n",
    "            return 29\n",
    "        elif month == 0:\n",
    "            return 0\n",
    "        else:\n",
    "            return 30\n",
    "    else:\n",
    "        if month in [1,3,5,7,8,10,12]:\n",
    "            return 31\n",
    "        elif month == 2:\n",
    "            return 28\n",
    "        elif month == 0:\n",
    "            return 0\n",
    "        else:\n",
    "            return 30\n",
    "\n",
    "def days(is_y_year, day1_month, day1_day, day2_month, day2_day):\n",
    "    day1_month_day = 0\n",
    "    for m in range(day1_month):\n",
    "        day1_month_day += month_to_days(m, is_y_year)\n",
    "    day1_total_day = day1_month_day + day1_day\n",
    "    day2_month_day = 0\n",
    "    for m in range(day2_month):\n",
    "        day2_month_day += month_to_days(m, is_y_year)\n",
    "    day2_total_day = day2_month_day + day2_day\n",
    "    \n",
    "    print(day1_total_day, day2_total_day)\n",
    "    \n",
    "    if day2_total_day > day1_total_day:\n",
    "        return day2_total_day - day1_total_day\n",
    "    else:\n",
    "        return -1 \n",
    "    \n",
    "\n",
    "print(f\"day1: {day1_month}월 {day1_day}일 ~ day2: {day2_month}월 {day2_day}일, 윤년: {is_y_year}\")\n",
    "print(days(is_y_year, day1_month, day1_day, day2_month, day2_day))\n"
   ]
  }
 ],
 "metadata": {
  "kernelspec": {
   "display_name": "Python 3 (ipykernel)",
   "language": "python",
   "name": "python3"
  },
  "language_info": {
   "codemirror_mode": {
    "name": "ipython",
    "version": 3
   },
   "file_extension": ".py",
   "mimetype": "text/x-python",
   "name": "python",
   "nbconvert_exporter": "python",
   "pygments_lexer": "ipython3",
   "version": "3.9.7"
  }
 },
 "nbformat": 4,
 "nbformat_minor": 5
}
