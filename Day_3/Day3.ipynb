{
 "cells": [
  {
   "cell_type": "code",
   "execution_count": 1,
   "metadata": {},
   "outputs": [
    {
     "name": "stdout",
     "output_type": "stream",
     "text": [
      "time : 5.984306e-03\n",
      "time : 5.517721e-02\n"
     ]
    }
   ],
   "source": [
    "import time\n",
    "\n",
    "a = [x for x in range(100000)]\n",
    "\n",
    "start = time.time()\n",
    "b = [x/2 for x in a]\n",
    "print(\"time : %e\" %(time.time() - start)) \n",
    "\n",
    "a = [x for x in range(1000000)]\n",
    "\n",
    "start = time.time()\n",
    "b = [x/2 for x in a]\n",
    "print(\"time : %e\" %(time.time() - start)) # 현재시각 - 시작시간 = 실행 시간"
   ]
  }
 ],
 "metadata": {
  "language_info": {
   "name": "python"
  },
  "orig_nbformat": 4
 },
 "nbformat": 4,
 "nbformat_minor": 2
}
